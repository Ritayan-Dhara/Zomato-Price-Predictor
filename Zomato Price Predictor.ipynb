{
 "cells": [
  {
   "cell_type": "code",
   "execution_count": 67,
   "metadata": {},
   "outputs": [],
   "source": [
    "import numpy as np\n",
    "import pandas as pd\n",
    "import matplotlib.pyplot as plt\n",
    "import seaborn as sns\n",
    "from sklearn.model_selection import train_test_split\n",
    "from sklearn.linear_model import LinearRegression\n",
    "from sklearn.metrics import r2_score\n",
    "import warnings\n",
    "warnings.filterwarnings('ignore')"
   ]
  },
  {
   "cell_type": "code",
   "execution_count": 68,
   "metadata": {},
   "outputs": [
    {
     "data": {
      "text/html": [
       "<div>\n",
       "<style scoped>\n",
       "    .dataframe tbody tr th:only-of-type {\n",
       "        vertical-align: middle;\n",
       "    }\n",
       "\n",
       "    .dataframe tbody tr th {\n",
       "        vertical-align: top;\n",
       "    }\n",
       "\n",
       "    .dataframe thead th {\n",
       "        text-align: right;\n",
       "    }\n",
       "</style>\n",
       "<table border=\"1\" class=\"dataframe\">\n",
       "  <thead>\n",
       "    <tr style=\"text-align: right;\">\n",
       "      <th></th>\n",
       "      <th>Restaurant ID</th>\n",
       "      <th>Restaurant Name</th>\n",
       "      <th>Country Code</th>\n",
       "      <th>City</th>\n",
       "      <th>Address</th>\n",
       "      <th>Locality</th>\n",
       "      <th>Locality Verbose</th>\n",
       "      <th>Longitude</th>\n",
       "      <th>Latitude</th>\n",
       "      <th>Cuisines</th>\n",
       "      <th>...</th>\n",
       "      <th>Currency</th>\n",
       "      <th>Has Table booking</th>\n",
       "      <th>Has Online delivery</th>\n",
       "      <th>Is delivering now</th>\n",
       "      <th>Switch to order menu</th>\n",
       "      <th>Price range</th>\n",
       "      <th>Aggregate rating</th>\n",
       "      <th>Rating color</th>\n",
       "      <th>Rating text</th>\n",
       "      <th>Votes</th>\n",
       "    </tr>\n",
       "  </thead>\n",
       "  <tbody>\n",
       "    <tr>\n",
       "      <td>0</td>\n",
       "      <td>6317637</td>\n",
       "      <td>Le Petit Souffle</td>\n",
       "      <td>162</td>\n",
       "      <td>Makati City</td>\n",
       "      <td>Third Floor, Century City Mall, Kalayaan Avenu...</td>\n",
       "      <td>Century City Mall, Poblacion, Makati City</td>\n",
       "      <td>Century City Mall, Poblacion, Makati City, Mak...</td>\n",
       "      <td>121.027535</td>\n",
       "      <td>14.565443</td>\n",
       "      <td>French, Japanese, Desserts</td>\n",
       "      <td>...</td>\n",
       "      <td>Botswana Pula(P)</td>\n",
       "      <td>Yes</td>\n",
       "      <td>No</td>\n",
       "      <td>No</td>\n",
       "      <td>No</td>\n",
       "      <td>3</td>\n",
       "      <td>4.8</td>\n",
       "      <td>Dark Green</td>\n",
       "      <td>Excellent</td>\n",
       "      <td>314</td>\n",
       "    </tr>\n",
       "    <tr>\n",
       "      <td>1</td>\n",
       "      <td>6304287</td>\n",
       "      <td>Izakaya Kikufuji</td>\n",
       "      <td>162</td>\n",
       "      <td>Makati City</td>\n",
       "      <td>Little Tokyo, 2277 Chino Roces Avenue, Legaspi...</td>\n",
       "      <td>Little Tokyo, Legaspi Village, Makati City</td>\n",
       "      <td>Little Tokyo, Legaspi Village, Makati City, Ma...</td>\n",
       "      <td>121.014101</td>\n",
       "      <td>14.553708</td>\n",
       "      <td>Japanese</td>\n",
       "      <td>...</td>\n",
       "      <td>Botswana Pula(P)</td>\n",
       "      <td>Yes</td>\n",
       "      <td>No</td>\n",
       "      <td>No</td>\n",
       "      <td>No</td>\n",
       "      <td>3</td>\n",
       "      <td>4.5</td>\n",
       "      <td>Dark Green</td>\n",
       "      <td>Excellent</td>\n",
       "      <td>591</td>\n",
       "    </tr>\n",
       "  </tbody>\n",
       "</table>\n",
       "<p>2 rows × 21 columns</p>\n",
       "</div>"
      ],
      "text/plain": [
       "   Restaurant ID   Restaurant Name  Country Code         City  \\\n",
       "0        6317637  Le Petit Souffle           162  Makati City   \n",
       "1        6304287  Izakaya Kikufuji           162  Makati City   \n",
       "\n",
       "                                             Address  \\\n",
       "0  Third Floor, Century City Mall, Kalayaan Avenu...   \n",
       "1  Little Tokyo, 2277 Chino Roces Avenue, Legaspi...   \n",
       "\n",
       "                                     Locality  \\\n",
       "0   Century City Mall, Poblacion, Makati City   \n",
       "1  Little Tokyo, Legaspi Village, Makati City   \n",
       "\n",
       "                                    Locality Verbose   Longitude   Latitude  \\\n",
       "0  Century City Mall, Poblacion, Makati City, Mak...  121.027535  14.565443   \n",
       "1  Little Tokyo, Legaspi Village, Makati City, Ma...  121.014101  14.553708   \n",
       "\n",
       "                     Cuisines  ...          Currency Has Table booking  \\\n",
       "0  French, Japanese, Desserts  ...  Botswana Pula(P)               Yes   \n",
       "1                    Japanese  ...  Botswana Pula(P)               Yes   \n",
       "\n",
       "  Has Online delivery Is delivering now Switch to order menu Price range  \\\n",
       "0                  No                No                   No           3   \n",
       "1                  No                No                   No           3   \n",
       "\n",
       "   Aggregate rating  Rating color Rating text Votes  \n",
       "0               4.8    Dark Green   Excellent   314  \n",
       "1               4.5    Dark Green   Excellent   591  \n",
       "\n",
       "[2 rows x 21 columns]"
      ]
     },
     "execution_count": 68,
     "metadata": {},
     "output_type": "execute_result"
    }
   ],
   "source": [
    "data=pd.read_csv('zomato.csv',encoding='latin-1')\n",
    "data.head(2)"
   ]
  },
  {
   "cell_type": "code",
   "execution_count": 69,
   "metadata": {},
   "outputs": [
    {
     "name": "stdout",
     "output_type": "stream",
     "text": [
      "<class 'pandas.core.frame.DataFrame'>\n",
      "RangeIndex: 9551 entries, 0 to 9550\n",
      "Data columns (total 21 columns):\n",
      "Restaurant ID           9551 non-null int64\n",
      "Restaurant Name         9551 non-null object\n",
      "Country Code            9551 non-null int64\n",
      "City                    9551 non-null object\n",
      "Address                 9551 non-null object\n",
      "Locality                9551 non-null object\n",
      "Locality Verbose        9551 non-null object\n",
      "Longitude               9551 non-null float64\n",
      "Latitude                9551 non-null float64\n",
      "Cuisines                9542 non-null object\n",
      "Average Cost for two    9551 non-null int64\n",
      "Currency                9551 non-null object\n",
      "Has Table booking       9551 non-null object\n",
      "Has Online delivery     9551 non-null object\n",
      "Is delivering now       9551 non-null object\n",
      "Switch to order menu    9551 non-null object\n",
      "Price range             9551 non-null int64\n",
      "Aggregate rating        9551 non-null float64\n",
      "Rating color            9551 non-null object\n",
      "Rating text             9551 non-null object\n",
      "Votes                   9551 non-null int64\n",
      "dtypes: float64(3), int64(5), object(13)\n",
      "memory usage: 1.5+ MB\n"
     ]
    }
   ],
   "source": [
    "data.info()"
   ]
  },
  {
   "cell_type": "code",
   "execution_count": 70,
   "metadata": {},
   "outputs": [
    {
     "name": "stdout",
     "output_type": "stream",
     "text": [
      "<class 'pandas.core.frame.DataFrame'>\n",
      "Int64Index: 9542 entries, 0 to 9550\n",
      "Data columns (total 21 columns):\n",
      "Restaurant ID           9542 non-null int64\n",
      "Restaurant Name         9542 non-null object\n",
      "Country Code            9542 non-null int64\n",
      "City                    9542 non-null object\n",
      "Address                 9542 non-null object\n",
      "Locality                9542 non-null object\n",
      "Locality Verbose        9542 non-null object\n",
      "Longitude               9542 non-null float64\n",
      "Latitude                9542 non-null float64\n",
      "Cuisines                9542 non-null object\n",
      "Average Cost for two    9542 non-null int64\n",
      "Currency                9542 non-null object\n",
      "Has Table booking       9542 non-null object\n",
      "Has Online delivery     9542 non-null object\n",
      "Is delivering now       9542 non-null object\n",
      "Switch to order menu    9542 non-null object\n",
      "Price range             9542 non-null int64\n",
      "Aggregate rating        9542 non-null float64\n",
      "Rating color            9542 non-null object\n",
      "Rating text             9542 non-null object\n",
      "Votes                   9542 non-null int64\n",
      "dtypes: float64(3), int64(5), object(13)\n",
      "memory usage: 1.6+ MB\n"
     ]
    }
   ],
   "source": [
    "#drops rows with null value\n",
    "data.dropna(inplace=True)\n",
    "data.info()"
   ]
  },
  {
   "cell_type": "code",
   "execution_count": 71,
   "metadata": {},
   "outputs": [
    {
     "data": {
      "text/plain": [
       "Cafe Coffee Day          83\n",
       "Domino's Pizza           79\n",
       "Subway                   63\n",
       "Green Chick Chop         51\n",
       "McDonald's               48\n",
       "                         ..\n",
       "Chicken Chilli Corner     1\n",
       "Karachi Bakery            1\n",
       "HotMess Bakes             1\n",
       "Grill Zone                1\n",
       "Anjali Resaturant         1\n",
       "Name: Restaurant Name, Length: 7437, dtype: int64"
      ]
     },
     "execution_count": 71,
     "metadata": {},
     "output_type": "execute_result"
    }
   ],
   "source": [
    "data['Restaurant Name'].value_counts()"
   ]
  },
  {
   "cell_type": "code",
   "execution_count": 72,
   "metadata": {},
   "outputs": [],
   "source": [
    "data.drop(columns=['Restaurant ID','Is delivering now','Switch to order menu'], inplace=True)"
   ]
  },
  {
   "cell_type": "code",
   "execution_count": 73,
   "metadata": {},
   "outputs": [
    {
     "name": "stdout",
     "output_type": "stream",
     "text": [
      "<class 'pandas.core.frame.DataFrame'>\n",
      "Int64Index: 9542 entries, 0 to 9550\n",
      "Data columns (total 18 columns):\n",
      "Restaurant Name         9542 non-null object\n",
      "Country Code            9542 non-null int64\n",
      "City                    9542 non-null object\n",
      "Address                 9542 non-null object\n",
      "Locality                9542 non-null object\n",
      "Locality Verbose        9542 non-null object\n",
      "Longitude               9542 non-null float64\n",
      "Latitude                9542 non-null float64\n",
      "Cuisines                9542 non-null object\n",
      "Average Cost for two    9542 non-null int64\n",
      "Currency                9542 non-null object\n",
      "Has Table booking       9542 non-null object\n",
      "Has Online delivery     9542 non-null object\n",
      "Price range             9542 non-null int64\n",
      "Aggregate rating        9542 non-null float64\n",
      "Rating color            9542 non-null object\n",
      "Rating text             9542 non-null object\n",
      "Votes                   9542 non-null int64\n",
      "dtypes: float64(3), int64(4), object(11)\n",
      "memory usage: 1.4+ MB\n"
     ]
    }
   ],
   "source": [
    "data.info()"
   ]
  },
  {
   "cell_type": "code",
   "execution_count": 74,
   "metadata": {},
   "outputs": [
    {
     "data": {
      "text/plain": [
       "Index(['Restaurant Name', 'Country Code', 'City', 'Address', 'Locality',\n",
       "       'Locality Verbose', 'Longitude', 'Latitude', 'Cuisines',\n",
       "       'Average Cost for two', 'Currency', 'Has Table booking',\n",
       "       'Has Online delivery', 'Price range', 'Aggregate rating',\n",
       "       'Rating color', 'Rating text', 'Votes'],\n",
       "      dtype='object')"
      ]
     },
     "execution_count": 74,
     "metadata": {},
     "output_type": "execute_result"
    }
   ],
   "source": [
    "data.columns"
   ]
  },
  {
   "cell_type": "code",
   "execution_count": 75,
   "metadata": {},
   "outputs": [
    {
     "data": {
      "text/plain": [
       "15"
      ]
     },
     "execution_count": 75,
     "metadata": {},
     "output_type": "execute_result"
    }
   ],
   "source": [
    "data['Country Code'].nunique()"
   ]
  },
  {
   "cell_type": "code",
   "execution_count": 76,
   "metadata": {},
   "outputs": [
    {
     "data": {
      "text/plain": [
       "1      8652\n",
       "216     425\n",
       "215      80\n",
       "214      60\n",
       "30       60\n",
       "189      60\n",
       "148      40\n",
       "208      34\n",
       "14       24\n",
       "162      22\n",
       "94       21\n",
       "191      20\n",
       "166      20\n",
       "184      20\n",
       "37        4\n",
       "Name: Country Code, dtype: int64"
      ]
     },
     "execution_count": 76,
     "metadata": {},
     "output_type": "execute_result"
    }
   ],
   "source": [
    "data['Country Code'].value_counts()"
   ]
  },
  {
   "cell_type": "code",
   "execution_count": 77,
   "metadata": {},
   "outputs": [],
   "source": [
    "#data[data['City']=='Kolkata' & data['Locality']=='Sector 5, Salt Lake']"
   ]
  },
  {
   "cell_type": "code",
   "execution_count": 78,
   "metadata": {},
   "outputs": [
    {
     "data": {
      "text/plain": [
       "(8652, 18)"
      ]
     },
     "execution_count": 78,
     "metadata": {},
     "output_type": "execute_result"
    }
   ],
   "source": [
    "data=data[data['Country Code']==1]\n",
    "data.shape"
   ]
  },
  {
   "cell_type": "code",
   "execution_count": 79,
   "metadata": {},
   "outputs": [],
   "source": [
    "data.drop(columns=['Restaurant Name','Country Code','Currency'],inplace=True)"
   ]
  },
  {
   "cell_type": "code",
   "execution_count": 80,
   "metadata": {},
   "outputs": [
    {
     "data": {
      "text/plain": [
       "New Delhi       5473\n",
       "Gurgaon         1118\n",
       "Noida           1080\n",
       "Faridabad        251\n",
       "Ghaziabad         25\n",
       "Guwahati          21\n",
       "Amritsar          21\n",
       "Ahmedabad         21\n",
       "Bhubaneshwar      21\n",
       "Lucknow           21\n",
       "Mysore            20\n",
       "Coimbatore        20\n",
       "Surat             20\n",
       "Jaipur            20\n",
       "Bhopal            20\n",
       "Pune              20\n",
       "Kolkata           20\n",
       "Ranchi            20\n",
       "Kochi             20\n",
       "Dehradun          20\n",
       "Varanasi          20\n",
       "Aurangabad        20\n",
       "Agra              20\n",
       "Mangalore         20\n",
       "Vizag             20\n",
       "Ludhiana          20\n",
       "Allahabad         20\n",
       "Bangalore         20\n",
       "Mumbai            20\n",
       "Goa               20\n",
       "Chennai           20\n",
       "Kanpur            20\n",
       "Nashik            20\n",
       "Patna             20\n",
       "Nagpur            20\n",
       "Indore            20\n",
       "Vadodara          20\n",
       "Puducherry        20\n",
       "Chandigarh        18\n",
       "Hyderabad         18\n",
       "Secunderabad       2\n",
       "Mohali             1\n",
       "Panchkula          1\n",
       "Name: City, dtype: int64"
      ]
     },
     "execution_count": 80,
     "metadata": {},
     "output_type": "execute_result"
    }
   ],
   "source": [
    "data['City'].value_counts()"
   ]
  },
  {
   "cell_type": "code",
   "execution_count": 81,
   "metadata": {},
   "outputs": [
    {
     "data": {
      "text/plain": [
       "(7922, 15)"
      ]
     },
     "execution_count": 81,
     "metadata": {},
     "output_type": "execute_result"
    }
   ],
   "source": [
    "data=data[data['City'].isin(['New Delhi','Gurgaon','Noida','Faridabad'])]\n",
    "data.shape"
   ]
  },
  {
   "cell_type": "code",
   "execution_count": 82,
   "metadata": {},
   "outputs": [
    {
     "data": {
      "text/plain": [
       "'G 25/22, Main Road, 40 Feet, Molarband Extension, Badarpur Border, Faridabad'"
      ]
     },
     "execution_count": 82,
     "metadata": {},
     "output_type": "execute_result"
    }
   ],
   "source": [
    "data['Address'][865]"
   ]
  },
  {
   "cell_type": "code",
   "execution_count": 83,
   "metadata": {},
   "outputs": [
    {
     "data": {
      "text/plain": [
       "Connaught Place                   122\n",
       "Rajouri Garden                     99\n",
       "Shahdara                           87\n",
       "Defence Colony                     86\n",
       "Pitampura                          85\n",
       "                                 ... \n",
       "Tughlakabad Institutional Area      1\n",
       "Kashmiri Gate                       1\n",
       "Radisson Blu, Sector 18, Noida      1\n",
       "K Hotel                             1\n",
       "Dr. Zakir Hussain Marg              1\n",
       "Name: Locality, Length: 457, dtype: int64"
      ]
     },
     "execution_count": 83,
     "metadata": {},
     "output_type": "execute_result"
    }
   ],
   "source": [
    "data['Locality'].value_counts()"
   ]
  },
  {
   "cell_type": "code",
   "execution_count": 84,
   "metadata": {},
   "outputs": [
    {
     "data": {
      "text/plain": [
       "Connaught Place, New Delhi                     122\n",
       "Rajouri Garden, New Delhi                       99\n",
       "Shahdara, New Delhi                             87\n",
       "Defence Colony, New Delhi                       86\n",
       "Pitampura, New Delhi                            85\n",
       "                                              ... \n",
       "IBIS Hotel, Golf Course Road, Gurgaon            1\n",
       "Park Plaza, Sector 21, Faridabad, Faridabad      1\n",
       "ARSS Mall, Paschim Vihar, New Delhi              1\n",
       "Radisson Blu, Sector 18, Noida, Noida            1\n",
       "Sector 57, Noida                                 1\n",
       "Name: Locality Verbose, Length: 492, dtype: int64"
      ]
     },
     "execution_count": 84,
     "metadata": {},
     "output_type": "execute_result"
    }
   ],
   "source": [
    "data['Locality Verbose'].value_counts()"
   ]
  },
  {
   "cell_type": "code",
   "execution_count": 85,
   "metadata": {},
   "outputs": [
    {
     "data": {
      "text/plain": [
       "865     Chinese, Fast Food, Bakery\n",
       "866          North Indian, Chinese\n",
       "867                   North Indian\n",
       "868                   North Indian\n",
       "869                         Bakery\n",
       "                   ...            \n",
       "9108         North Indian, Chinese\n",
       "9109                     Fast Food\n",
       "9110                     Fast Food\n",
       "9111         North Indian, Chinese\n",
       "9112          Raw Meats, Fast Food\n",
       "Name: Cuisines, Length: 7922, dtype: object"
      ]
     },
     "execution_count": 85,
     "metadata": {},
     "output_type": "execute_result"
    }
   ],
   "source": [
    "data['Cuisines']"
   ]
  },
  {
   "cell_type": "code",
   "execution_count": 86,
   "metadata": {},
   "outputs": [
    {
     "data": {
      "text/html": [
       "<div>\n",
       "<style scoped>\n",
       "    .dataframe tbody tr th:only-of-type {\n",
       "        vertical-align: middle;\n",
       "    }\n",
       "\n",
       "    .dataframe tbody tr th {\n",
       "        vertical-align: top;\n",
       "    }\n",
       "\n",
       "    .dataframe thead th {\n",
       "        text-align: right;\n",
       "    }\n",
       "</style>\n",
       "<table border=\"1\" class=\"dataframe\">\n",
       "  <thead>\n",
       "    <tr style=\"text-align: right;\">\n",
       "      <th></th>\n",
       "      <th>Longitude</th>\n",
       "      <th>Latitude</th>\n",
       "      <th>Average Cost for two</th>\n",
       "      <th>Price range</th>\n",
       "      <th>Aggregate rating</th>\n",
       "      <th>Votes</th>\n",
       "    </tr>\n",
       "    <tr>\n",
       "      <th>Cuisines</th>\n",
       "      <th></th>\n",
       "      <th></th>\n",
       "      <th></th>\n",
       "      <th></th>\n",
       "      <th></th>\n",
       "      <th></th>\n",
       "    </tr>\n",
       "  </thead>\n",
       "  <tbody>\n",
       "    <tr>\n",
       "      <td>Afghani</td>\n",
       "      <td>77.145669</td>\n",
       "      <td>28.507631</td>\n",
       "      <td>512.500000</td>\n",
       "      <td>1.750000</td>\n",
       "      <td>0.725000</td>\n",
       "      <td>9.750000</td>\n",
       "    </tr>\n",
       "    <tr>\n",
       "      <td>Afghani, Mughlai, Chinese</td>\n",
       "      <td>77.245796</td>\n",
       "      <td>28.558387</td>\n",
       "      <td>500.000000</td>\n",
       "      <td>2.000000</td>\n",
       "      <td>0.000000</td>\n",
       "      <td>2.000000</td>\n",
       "    </tr>\n",
       "    <tr>\n",
       "      <td>Afghani, North Indian</td>\n",
       "      <td>77.045289</td>\n",
       "      <td>28.439285</td>\n",
       "      <td>900.000000</td>\n",
       "      <td>2.000000</td>\n",
       "      <td>0.000000</td>\n",
       "      <td>0.000000</td>\n",
       "    </tr>\n",
       "    <tr>\n",
       "      <td>Afghani, North Indian, Pakistani, Arabian</td>\n",
       "      <td>77.266754</td>\n",
       "      <td>28.659755</td>\n",
       "      <td>500.000000</td>\n",
       "      <td>2.000000</td>\n",
       "      <td>0.000000</td>\n",
       "      <td>3.000000</td>\n",
       "    </tr>\n",
       "    <tr>\n",
       "      <td>American</td>\n",
       "      <td>77.222452</td>\n",
       "      <td>28.564240</td>\n",
       "      <td>666.666667</td>\n",
       "      <td>1.666667</td>\n",
       "      <td>2.066667</td>\n",
       "      <td>58.166667</td>\n",
       "    </tr>\n",
       "    <tr>\n",
       "      <td>...</td>\n",
       "      <td>...</td>\n",
       "      <td>...</td>\n",
       "      <td>...</td>\n",
       "      <td>...</td>\n",
       "      <td>...</td>\n",
       "      <td>...</td>\n",
       "    </tr>\n",
       "    <tr>\n",
       "      <td>Tibetan, Street Food</td>\n",
       "      <td>77.374547</td>\n",
       "      <td>28.581684</td>\n",
       "      <td>100.000000</td>\n",
       "      <td>1.000000</td>\n",
       "      <td>0.000000</td>\n",
       "      <td>1.000000</td>\n",
       "    </tr>\n",
       "    <tr>\n",
       "      <td>Turkish</td>\n",
       "      <td>77.187034</td>\n",
       "      <td>28.535345</td>\n",
       "      <td>600.000000</td>\n",
       "      <td>2.000000</td>\n",
       "      <td>2.950000</td>\n",
       "      <td>151.000000</td>\n",
       "    </tr>\n",
       "    <tr>\n",
       "      <td>Turkish, Arabian, Moroccan, Lebanese</td>\n",
       "      <td>0.000000</td>\n",
       "      <td>0.000000</td>\n",
       "      <td>400.000000</td>\n",
       "      <td>1.000000</td>\n",
       "      <td>0.000000</td>\n",
       "      <td>0.000000</td>\n",
       "    </tr>\n",
       "    <tr>\n",
       "      <td>Turkish, Mediterranean, Middle Eastern</td>\n",
       "      <td>77.238697</td>\n",
       "      <td>28.537128</td>\n",
       "      <td>2000.000000</td>\n",
       "      <td>4.000000</td>\n",
       "      <td>4.300000</td>\n",
       "      <td>43.000000</td>\n",
       "    </tr>\n",
       "    <tr>\n",
       "      <td>Vietnamese</td>\n",
       "      <td>77.208506</td>\n",
       "      <td>28.551446</td>\n",
       "      <td>1000.000000</td>\n",
       "      <td>3.000000</td>\n",
       "      <td>4.000000</td>\n",
       "      <td>83.000000</td>\n",
       "    </tr>\n",
       "  </tbody>\n",
       "</table>\n",
       "<p>1156 rows × 6 columns</p>\n",
       "</div>"
      ],
      "text/plain": [
       "                                           Longitude   Latitude  \\\n",
       "Cuisines                                                          \n",
       "Afghani                                    77.145669  28.507631   \n",
       "Afghani, Mughlai, Chinese                  77.245796  28.558387   \n",
       "Afghani, North Indian                      77.045289  28.439285   \n",
       "Afghani, North Indian, Pakistani, Arabian  77.266754  28.659755   \n",
       "American                                   77.222452  28.564240   \n",
       "...                                              ...        ...   \n",
       "Tibetan, Street Food                       77.374547  28.581684   \n",
       "Turkish                                    77.187034  28.535345   \n",
       "Turkish, Arabian, Moroccan, Lebanese        0.000000   0.000000   \n",
       "Turkish, Mediterranean, Middle Eastern     77.238697  28.537128   \n",
       "Vietnamese                                 77.208506  28.551446   \n",
       "\n",
       "                                           Average Cost for two  Price range  \\\n",
       "Cuisines                                                                       \n",
       "Afghani                                              512.500000     1.750000   \n",
       "Afghani, Mughlai, Chinese                            500.000000     2.000000   \n",
       "Afghani, North Indian                                900.000000     2.000000   \n",
       "Afghani, North Indian, Pakistani, Arabian            500.000000     2.000000   \n",
       "American                                             666.666667     1.666667   \n",
       "...                                                         ...          ...   \n",
       "Tibetan, Street Food                                 100.000000     1.000000   \n",
       "Turkish                                              600.000000     2.000000   \n",
       "Turkish, Arabian, Moroccan, Lebanese                 400.000000     1.000000   \n",
       "Turkish, Mediterranean, Middle Eastern              2000.000000     4.000000   \n",
       "Vietnamese                                          1000.000000     3.000000   \n",
       "\n",
       "                                           Aggregate rating       Votes  \n",
       "Cuisines                                                                 \n",
       "Afghani                                            0.725000    9.750000  \n",
       "Afghani, Mughlai, Chinese                          0.000000    2.000000  \n",
       "Afghani, North Indian                              0.000000    0.000000  \n",
       "Afghani, North Indian, Pakistani, Arabian          0.000000    3.000000  \n",
       "American                                           2.066667   58.166667  \n",
       "...                                                     ...         ...  \n",
       "Tibetan, Street Food                               0.000000    1.000000  \n",
       "Turkish                                            2.950000  151.000000  \n",
       "Turkish, Arabian, Moroccan, Lebanese               0.000000    0.000000  \n",
       "Turkish, Mediterranean, Middle Eastern             4.300000   43.000000  \n",
       "Vietnamese                                         4.000000   83.000000  \n",
       "\n",
       "[1156 rows x 6 columns]"
      ]
     },
     "execution_count": 86,
     "metadata": {},
     "output_type": "execute_result"
    }
   ],
   "source": [
    "data.groupby('Cuisines').mean()"
   ]
  },
  {
   "cell_type": "code",
   "execution_count": 87,
   "metadata": {},
   "outputs": [
    {
     "data": {
      "text/plain": [
       "Cuisines\n",
       "Asian, Japanese, Korean, Thai, Chinese             7000.0\n",
       "North Indian, Chinese, South Indian, Italian       6000.0\n",
       "Malaysian, Thai, Kerala, Vietnamese, Sri Lankan    6000.0\n",
       "Chinese, Italian, Continental, North Indian        5000.0\n",
       "Mediterranean, European                            5000.0\n",
       "                                                    ...  \n",
       "Awadhi, Mughlai                                     100.0\n",
       "North Indian, Beverages                             100.0\n",
       "Mithai, South Indian, Chinese, Street Food          100.0\n",
       "Bakery, Pizza                                       100.0\n",
       "Beverages, Street Food                               50.0\n",
       "Name: Average Cost for two, Length: 1156, dtype: float64"
      ]
     },
     "execution_count": 87,
     "metadata": {},
     "output_type": "execute_result"
    }
   ],
   "source": [
    "data.groupby('Cuisines').mean()['Average Cost for two'].sort_values(ascending=False)"
   ]
  },
  {
   "cell_type": "code",
   "execution_count": 88,
   "metadata": {},
   "outputs": [
    {
     "data": {
      "text/html": [
       "<div>\n",
       "<style scoped>\n",
       "    .dataframe tbody tr th:only-of-type {\n",
       "        vertical-align: middle;\n",
       "    }\n",
       "\n",
       "    .dataframe tbody tr th {\n",
       "        vertical-align: top;\n",
       "    }\n",
       "\n",
       "    .dataframe thead th {\n",
       "        text-align: right;\n",
       "    }\n",
       "</style>\n",
       "<table border=\"1\" class=\"dataframe\">\n",
       "  <thead>\n",
       "    <tr style=\"text-align: right;\">\n",
       "      <th></th>\n",
       "      <th>Cuisines</th>\n",
       "      <th>Average Cost for two</th>\n",
       "    </tr>\n",
       "  </thead>\n",
       "  <tbody>\n",
       "    <tr>\n",
       "      <td>0</td>\n",
       "      <td>Afghani</td>\n",
       "      <td>512.500000</td>\n",
       "    </tr>\n",
       "    <tr>\n",
       "      <td>1</td>\n",
       "      <td>Afghani, Mughlai, Chinese</td>\n",
       "      <td>500.000000</td>\n",
       "    </tr>\n",
       "    <tr>\n",
       "      <td>2</td>\n",
       "      <td>Afghani, North Indian</td>\n",
       "      <td>900.000000</td>\n",
       "    </tr>\n",
       "    <tr>\n",
       "      <td>3</td>\n",
       "      <td>Afghani, North Indian, Pakistani, Arabian</td>\n",
       "      <td>500.000000</td>\n",
       "    </tr>\n",
       "    <tr>\n",
       "      <td>4</td>\n",
       "      <td>American</td>\n",
       "      <td>666.666667</td>\n",
       "    </tr>\n",
       "    <tr>\n",
       "      <td>...</td>\n",
       "      <td>...</td>\n",
       "      <td>...</td>\n",
       "    </tr>\n",
       "    <tr>\n",
       "      <td>1151</td>\n",
       "      <td>Tibetan, Street Food</td>\n",
       "      <td>100.000000</td>\n",
       "    </tr>\n",
       "    <tr>\n",
       "      <td>1152</td>\n",
       "      <td>Turkish</td>\n",
       "      <td>600.000000</td>\n",
       "    </tr>\n",
       "    <tr>\n",
       "      <td>1153</td>\n",
       "      <td>Turkish, Arabian, Moroccan, Lebanese</td>\n",
       "      <td>400.000000</td>\n",
       "    </tr>\n",
       "    <tr>\n",
       "      <td>1154</td>\n",
       "      <td>Turkish, Mediterranean, Middle Eastern</td>\n",
       "      <td>2000.000000</td>\n",
       "    </tr>\n",
       "    <tr>\n",
       "      <td>1155</td>\n",
       "      <td>Vietnamese</td>\n",
       "      <td>1000.000000</td>\n",
       "    </tr>\n",
       "  </tbody>\n",
       "</table>\n",
       "<p>1156 rows × 2 columns</p>\n",
       "</div>"
      ],
      "text/plain": [
       "                                       Cuisines  Average Cost for two\n",
       "0                                       Afghani            512.500000\n",
       "1                     Afghani, Mughlai, Chinese            500.000000\n",
       "2                         Afghani, North Indian            900.000000\n",
       "3     Afghani, North Indian, Pakistani, Arabian            500.000000\n",
       "4                                      American            666.666667\n",
       "...                                         ...                   ...\n",
       "1151                       Tibetan, Street Food            100.000000\n",
       "1152                                    Turkish            600.000000\n",
       "1153       Turkish, Arabian, Moroccan, Lebanese            400.000000\n",
       "1154     Turkish, Mediterranean, Middle Eastern           2000.000000\n",
       "1155                                 Vietnamese           1000.000000\n",
       "\n",
       "[1156 rows x 2 columns]"
      ]
     },
     "execution_count": 88,
     "metadata": {},
     "output_type": "execute_result"
    }
   ],
   "source": [
    "avg_price=data.groupby('Cuisines').mean()['Average Cost for two'].reset_index()\n",
    "avg_price"
   ]
  },
  {
   "cell_type": "code",
   "execution_count": 89,
   "metadata": {},
   "outputs": [
    {
     "data": {
      "text/html": [
       "<div>\n",
       "<style scoped>\n",
       "    .dataframe tbody tr th:only-of-type {\n",
       "        vertical-align: middle;\n",
       "    }\n",
       "\n",
       "    .dataframe tbody tr th {\n",
       "        vertical-align: top;\n",
       "    }\n",
       "\n",
       "    .dataframe thead th {\n",
       "        text-align: right;\n",
       "    }\n",
       "</style>\n",
       "<table border=\"1\" class=\"dataframe\">\n",
       "  <thead>\n",
       "    <tr style=\"text-align: right;\">\n",
       "      <th></th>\n",
       "      <th>City</th>\n",
       "      <th>Address</th>\n",
       "      <th>Locality</th>\n",
       "      <th>Locality Verbose</th>\n",
       "      <th>Longitude</th>\n",
       "      <th>Latitude</th>\n",
       "      <th>Cuisines</th>\n",
       "      <th>Average Cost for two_x</th>\n",
       "      <th>Has Table booking</th>\n",
       "      <th>Has Online delivery</th>\n",
       "      <th>Price range</th>\n",
       "      <th>Aggregate rating</th>\n",
       "      <th>Rating color</th>\n",
       "      <th>Rating text</th>\n",
       "      <th>Votes</th>\n",
       "      <th>Average Cost for two_y</th>\n",
       "    </tr>\n",
       "  </thead>\n",
       "  <tbody>\n",
       "    <tr>\n",
       "      <td>0</td>\n",
       "      <td>Faridabad</td>\n",
       "      <td>G 25/22, Main Road, 40 Feet, Molarband Extensi...</td>\n",
       "      <td>Badarpur Border</td>\n",
       "      <td>Badarpur Border, Faridabad</td>\n",
       "      <td>77.306640</td>\n",
       "      <td>28.490059</td>\n",
       "      <td>Chinese, Fast Food, Bakery</td>\n",
       "      <td>250</td>\n",
       "      <td>No</td>\n",
       "      <td>No</td>\n",
       "      <td>1</td>\n",
       "      <td>2.9</td>\n",
       "      <td>Orange</td>\n",
       "      <td>Average</td>\n",
       "      <td>4</td>\n",
       "      <td>375.0</td>\n",
       "    </tr>\n",
       "    <tr>\n",
       "      <td>1</td>\n",
       "      <td>New Delhi</td>\n",
       "      <td>Shop 3, Plot 1161, Opposite Old Sabji Mandi, K...</td>\n",
       "      <td>Narela</td>\n",
       "      <td>Narela, New Delhi</td>\n",
       "      <td>77.049525</td>\n",
       "      <td>28.806199</td>\n",
       "      <td>Chinese, Fast Food, Bakery</td>\n",
       "      <td>500</td>\n",
       "      <td>No</td>\n",
       "      <td>No</td>\n",
       "      <td>2</td>\n",
       "      <td>0.0</td>\n",
       "      <td>White</td>\n",
       "      <td>Not rated</td>\n",
       "      <td>0</td>\n",
       "      <td>375.0</td>\n",
       "    </tr>\n",
       "  </tbody>\n",
       "</table>\n",
       "</div>"
      ],
      "text/plain": [
       "        City                                            Address  \\\n",
       "0  Faridabad  G 25/22, Main Road, 40 Feet, Molarband Extensi...   \n",
       "1  New Delhi  Shop 3, Plot 1161, Opposite Old Sabji Mandi, K...   \n",
       "\n",
       "          Locality            Locality Verbose  Longitude   Latitude  \\\n",
       "0  Badarpur Border  Badarpur Border, Faridabad  77.306640  28.490059   \n",
       "1           Narela           Narela, New Delhi  77.049525  28.806199   \n",
       "\n",
       "                     Cuisines  Average Cost for two_x Has Table booking  \\\n",
       "0  Chinese, Fast Food, Bakery                     250                No   \n",
       "1  Chinese, Fast Food, Bakery                     500                No   \n",
       "\n",
       "  Has Online delivery  Price range  Aggregate rating Rating color Rating text  \\\n",
       "0                  No            1               2.9       Orange     Average   \n",
       "1                  No            2               0.0        White   Not rated   \n",
       "\n",
       "   Votes  Average Cost for two_y  \n",
       "0      4                   375.0  \n",
       "1      0                   375.0  "
      ]
     },
     "execution_count": 89,
     "metadata": {},
     "output_type": "execute_result"
    }
   ],
   "source": [
    "data=data.merge(avg_price, on='Cuisines')\n",
    "data.head(2)"
   ]
  },
  {
   "cell_type": "code",
   "execution_count": 90,
   "metadata": {},
   "outputs": [
    {
     "data": {
      "text/html": [
       "<div>\n",
       "<style scoped>\n",
       "    .dataframe tbody tr th:only-of-type {\n",
       "        vertical-align: middle;\n",
       "    }\n",
       "\n",
       "    .dataframe tbody tr th {\n",
       "        vertical-align: top;\n",
       "    }\n",
       "\n",
       "    .dataframe thead th {\n",
       "        text-align: right;\n",
       "    }\n",
       "</style>\n",
       "<table border=\"1\" class=\"dataframe\">\n",
       "  <thead>\n",
       "    <tr style=\"text-align: right;\">\n",
       "      <th></th>\n",
       "      <th>City</th>\n",
       "      <th>Address</th>\n",
       "      <th>Locality</th>\n",
       "      <th>Locality Verbose</th>\n",
       "      <th>Longitude</th>\n",
       "      <th>Latitude</th>\n",
       "      <th>Cuisines</th>\n",
       "      <th>target</th>\n",
       "      <th>Has Table booking</th>\n",
       "      <th>Has Online delivery</th>\n",
       "      <th>Price range</th>\n",
       "      <th>Aggregate rating</th>\n",
       "      <th>Rating color</th>\n",
       "      <th>Rating text</th>\n",
       "      <th>Votes</th>\n",
       "      <th>Cuisine</th>\n",
       "    </tr>\n",
       "  </thead>\n",
       "  <tbody>\n",
       "    <tr>\n",
       "      <td>0</td>\n",
       "      <td>Faridabad</td>\n",
       "      <td>G 25/22, Main Road, 40 Feet, Molarband Extensi...</td>\n",
       "      <td>Badarpur Border</td>\n",
       "      <td>Badarpur Border, Faridabad</td>\n",
       "      <td>77.306640</td>\n",
       "      <td>28.490059</td>\n",
       "      <td>Chinese, Fast Food, Bakery</td>\n",
       "      <td>250</td>\n",
       "      <td>No</td>\n",
       "      <td>No</td>\n",
       "      <td>1</td>\n",
       "      <td>2.9</td>\n",
       "      <td>Orange</td>\n",
       "      <td>Average</td>\n",
       "      <td>4</td>\n",
       "      <td>375.0</td>\n",
       "    </tr>\n",
       "    <tr>\n",
       "      <td>1</td>\n",
       "      <td>New Delhi</td>\n",
       "      <td>Shop 3, Plot 1161, Opposite Old Sabji Mandi, K...</td>\n",
       "      <td>Narela</td>\n",
       "      <td>Narela, New Delhi</td>\n",
       "      <td>77.049525</td>\n",
       "      <td>28.806199</td>\n",
       "      <td>Chinese, Fast Food, Bakery</td>\n",
       "      <td>500</td>\n",
       "      <td>No</td>\n",
       "      <td>No</td>\n",
       "      <td>2</td>\n",
       "      <td>0.0</td>\n",
       "      <td>White</td>\n",
       "      <td>Not rated</td>\n",
       "      <td>0</td>\n",
       "      <td>375.0</td>\n",
       "    </tr>\n",
       "  </tbody>\n",
       "</table>\n",
       "</div>"
      ],
      "text/plain": [
       "        City                                            Address  \\\n",
       "0  Faridabad  G 25/22, Main Road, 40 Feet, Molarband Extensi...   \n",
       "1  New Delhi  Shop 3, Plot 1161, Opposite Old Sabji Mandi, K...   \n",
       "\n",
       "          Locality            Locality Verbose  Longitude   Latitude  \\\n",
       "0  Badarpur Border  Badarpur Border, Faridabad  77.306640  28.490059   \n",
       "1           Narela           Narela, New Delhi  77.049525  28.806199   \n",
       "\n",
       "                     Cuisines  target Has Table booking Has Online delivery  \\\n",
       "0  Chinese, Fast Food, Bakery     250                No                  No   \n",
       "1  Chinese, Fast Food, Bakery     500                No                  No   \n",
       "\n",
       "   Price range  Aggregate rating Rating color Rating text  Votes  Cuisine  \n",
       "0            1               2.9       Orange     Average      4    375.0  \n",
       "1            2               0.0        White   Not rated      0    375.0  "
      ]
     },
     "execution_count": 90,
     "metadata": {},
     "output_type": "execute_result"
    }
   ],
   "source": [
    "data.rename(columns={'Average Cost for two_y':'Cuisine','Average Cost for two_x':'target'}, inplace=True)\n",
    "data.head(2)"
   ]
  },
  {
   "cell_type": "code",
   "execution_count": 91,
   "metadata": {},
   "outputs": [
    {
     "data": {
      "text/plain": [
       "Index(['City', 'Address', 'Locality', 'Locality Verbose', 'Longitude',\n",
       "       'Latitude', 'Cuisines', 'target', 'Has Table booking',\n",
       "       'Has Online delivery', 'Price range', 'Aggregate rating',\n",
       "       'Rating color', 'Rating text', 'Votes', 'Cuisine'],\n",
       "      dtype='object')"
      ]
     },
     "execution_count": 91,
     "metadata": {},
     "output_type": "execute_result"
    }
   ],
   "source": [
    "data.columns"
   ]
  },
  {
   "cell_type": "code",
   "execution_count": 92,
   "metadata": {},
   "outputs": [],
   "source": [
    "data.drop(columns=['Address','Locality','Locality Verbose','Cuisines'],inplace=True)"
   ]
  },
  {
   "cell_type": "code",
   "execution_count": 93,
   "metadata": {},
   "outputs": [
    {
     "data": {
      "text/html": [
       "<div>\n",
       "<style scoped>\n",
       "    .dataframe tbody tr th:only-of-type {\n",
       "        vertical-align: middle;\n",
       "    }\n",
       "\n",
       "    .dataframe tbody tr th {\n",
       "        vertical-align: top;\n",
       "    }\n",
       "\n",
       "    .dataframe thead th {\n",
       "        text-align: right;\n",
       "    }\n",
       "</style>\n",
       "<table border=\"1\" class=\"dataframe\">\n",
       "  <thead>\n",
       "    <tr style=\"text-align: right;\">\n",
       "      <th></th>\n",
       "      <th>City</th>\n",
       "      <th>Longitude</th>\n",
       "      <th>Latitude</th>\n",
       "      <th>target</th>\n",
       "      <th>Has Table booking</th>\n",
       "      <th>Has Online delivery</th>\n",
       "      <th>Price range</th>\n",
       "      <th>Aggregate rating</th>\n",
       "      <th>Rating color</th>\n",
       "      <th>Rating text</th>\n",
       "      <th>Votes</th>\n",
       "      <th>Cuisine</th>\n",
       "    </tr>\n",
       "  </thead>\n",
       "  <tbody>\n",
       "    <tr>\n",
       "      <td>0</td>\n",
       "      <td>Faridabad</td>\n",
       "      <td>77.306640</td>\n",
       "      <td>28.490059</td>\n",
       "      <td>250</td>\n",
       "      <td>No</td>\n",
       "      <td>No</td>\n",
       "      <td>1</td>\n",
       "      <td>2.9</td>\n",
       "      <td>Orange</td>\n",
       "      <td>Average</td>\n",
       "      <td>4</td>\n",
       "      <td>375.0</td>\n",
       "    </tr>\n",
       "    <tr>\n",
       "      <td>1</td>\n",
       "      <td>New Delhi</td>\n",
       "      <td>77.049525</td>\n",
       "      <td>28.806199</td>\n",
       "      <td>500</td>\n",
       "      <td>No</td>\n",
       "      <td>No</td>\n",
       "      <td>2</td>\n",
       "      <td>0.0</td>\n",
       "      <td>White</td>\n",
       "      <td>Not rated</td>\n",
       "      <td>0</td>\n",
       "      <td>375.0</td>\n",
       "    </tr>\n",
       "  </tbody>\n",
       "</table>\n",
       "</div>"
      ],
      "text/plain": [
       "        City  Longitude   Latitude  target Has Table booking  \\\n",
       "0  Faridabad  77.306640  28.490059     250                No   \n",
       "1  New Delhi  77.049525  28.806199     500                No   \n",
       "\n",
       "  Has Online delivery  Price range  Aggregate rating Rating color Rating text  \\\n",
       "0                  No            1               2.9       Orange     Average   \n",
       "1                  No            2               0.0        White   Not rated   \n",
       "\n",
       "   Votes  Cuisine  \n",
       "0      4    375.0  \n",
       "1      0    375.0  "
      ]
     },
     "execution_count": 93,
     "metadata": {},
     "output_type": "execute_result"
    }
   ],
   "source": [
    "data.head(2)"
   ]
  },
  {
   "cell_type": "code",
   "execution_count": 94,
   "metadata": {},
   "outputs": [
    {
     "data": {
      "text/plain": [
       "Index(['City', 'Longitude', 'Latitude', 'target', 'Has Table booking',\n",
       "       'Has Online delivery', 'Price range', 'Aggregate rating',\n",
       "       'Rating color', 'Rating text', 'Votes', 'Cuisine'],\n",
       "      dtype='object')"
      ]
     },
     "execution_count": 94,
     "metadata": {},
     "output_type": "execute_result"
    }
   ],
   "source": [
    "data.columns"
   ]
  },
  {
   "cell_type": "code",
   "execution_count": 95,
   "metadata": {},
   "outputs": [
    {
     "data": {
      "text/html": [
       "<div>\n",
       "<style scoped>\n",
       "    .dataframe tbody tr th:only-of-type {\n",
       "        vertical-align: middle;\n",
       "    }\n",
       "\n",
       "    .dataframe tbody tr th {\n",
       "        vertical-align: top;\n",
       "    }\n",
       "\n",
       "    .dataframe thead th {\n",
       "        text-align: right;\n",
       "    }\n",
       "</style>\n",
       "<table border=\"1\" class=\"dataframe\">\n",
       "  <thead>\n",
       "    <tr style=\"text-align: right;\">\n",
       "      <th></th>\n",
       "      <th>City</th>\n",
       "      <th>Longitude</th>\n",
       "      <th>Latitude</th>\n",
       "      <th>target</th>\n",
       "      <th>Has Table booking</th>\n",
       "      <th>Has Online delivery</th>\n",
       "      <th>Price range</th>\n",
       "      <th>Aggregate rating</th>\n",
       "      <th>Rating color</th>\n",
       "      <th>Rating text</th>\n",
       "      <th>Votes</th>\n",
       "      <th>Cuisine</th>\n",
       "    </tr>\n",
       "  </thead>\n",
       "  <tbody>\n",
       "    <tr>\n",
       "      <td>0</td>\n",
       "      <td>Faridabad</td>\n",
       "      <td>77.306640</td>\n",
       "      <td>28.490059</td>\n",
       "      <td>250</td>\n",
       "      <td>No</td>\n",
       "      <td>No</td>\n",
       "      <td>1</td>\n",
       "      <td>2.9</td>\n",
       "      <td>Orange</td>\n",
       "      <td>Average</td>\n",
       "      <td>4</td>\n",
       "      <td>375.000000</td>\n",
       "    </tr>\n",
       "    <tr>\n",
       "      <td>1</td>\n",
       "      <td>New Delhi</td>\n",
       "      <td>77.049525</td>\n",
       "      <td>28.806199</td>\n",
       "      <td>500</td>\n",
       "      <td>No</td>\n",
       "      <td>No</td>\n",
       "      <td>2</td>\n",
       "      <td>0.0</td>\n",
       "      <td>White</td>\n",
       "      <td>Not rated</td>\n",
       "      <td>0</td>\n",
       "      <td>375.000000</td>\n",
       "    </tr>\n",
       "    <tr>\n",
       "      <td>2</td>\n",
       "      <td>Faridabad</td>\n",
       "      <td>77.304776</td>\n",
       "      <td>28.490157</td>\n",
       "      <td>500</td>\n",
       "      <td>No</td>\n",
       "      <td>No</td>\n",
       "      <td>2</td>\n",
       "      <td>2.8</td>\n",
       "      <td>Orange</td>\n",
       "      <td>Average</td>\n",
       "      <td>16</td>\n",
       "      <td>594.303797</td>\n",
       "    </tr>\n",
       "    <tr>\n",
       "      <td>3</td>\n",
       "      <td>Faridabad</td>\n",
       "      <td>0.000000</td>\n",
       "      <td>0.000000</td>\n",
       "      <td>300</td>\n",
       "      <td>No</td>\n",
       "      <td>No</td>\n",
       "      <td>1</td>\n",
       "      <td>0.0</td>\n",
       "      <td>White</td>\n",
       "      <td>Not rated</td>\n",
       "      <td>0</td>\n",
       "      <td>594.303797</td>\n",
       "    </tr>\n",
       "    <tr>\n",
       "      <td>4</td>\n",
       "      <td>Faridabad</td>\n",
       "      <td>77.305698</td>\n",
       "      <td>28.471985</td>\n",
       "      <td>1200</td>\n",
       "      <td>Yes</td>\n",
       "      <td>No</td>\n",
       "      <td>3</td>\n",
       "      <td>0.0</td>\n",
       "      <td>White</td>\n",
       "      <td>Not rated</td>\n",
       "      <td>0</td>\n",
       "      <td>594.303797</td>\n",
       "    </tr>\n",
       "    <tr>\n",
       "      <td>...</td>\n",
       "      <td>...</td>\n",
       "      <td>...</td>\n",
       "      <td>...</td>\n",
       "      <td>...</td>\n",
       "      <td>...</td>\n",
       "      <td>...</td>\n",
       "      <td>...</td>\n",
       "      <td>...</td>\n",
       "      <td>...</td>\n",
       "      <td>...</td>\n",
       "      <td>...</td>\n",
       "      <td>...</td>\n",
       "    </tr>\n",
       "    <tr>\n",
       "      <td>7917</td>\n",
       "      <td>Noida</td>\n",
       "      <td>77.341021</td>\n",
       "      <td>28.585493</td>\n",
       "      <td>2500</td>\n",
       "      <td>Yes</td>\n",
       "      <td>No</td>\n",
       "      <td>4</td>\n",
       "      <td>2.2</td>\n",
       "      <td>Red</td>\n",
       "      <td>Poor</td>\n",
       "      <td>116</td>\n",
       "      <td>2500.000000</td>\n",
       "    </tr>\n",
       "    <tr>\n",
       "      <td>7918</td>\n",
       "      <td>Noida</td>\n",
       "      <td>77.364833</td>\n",
       "      <td>28.597103</td>\n",
       "      <td>200</td>\n",
       "      <td>No</td>\n",
       "      <td>No</td>\n",
       "      <td>1</td>\n",
       "      <td>3.0</td>\n",
       "      <td>Orange</td>\n",
       "      <td>Average</td>\n",
       "      <td>10</td>\n",
       "      <td>200.000000</td>\n",
       "    </tr>\n",
       "    <tr>\n",
       "      <td>7919</td>\n",
       "      <td>Noida</td>\n",
       "      <td>77.364833</td>\n",
       "      <td>28.597103</td>\n",
       "      <td>450</td>\n",
       "      <td>No</td>\n",
       "      <td>Yes</td>\n",
       "      <td>1</td>\n",
       "      <td>3.5</td>\n",
       "      <td>Yellow</td>\n",
       "      <td>Good</td>\n",
       "      <td>105</td>\n",
       "      <td>450.000000</td>\n",
       "    </tr>\n",
       "    <tr>\n",
       "      <td>7920</td>\n",
       "      <td>Noida</td>\n",
       "      <td>77.323213</td>\n",
       "      <td>28.567751</td>\n",
       "      <td>1000</td>\n",
       "      <td>Yes</td>\n",
       "      <td>No</td>\n",
       "      <td>3</td>\n",
       "      <td>0.0</td>\n",
       "      <td>White</td>\n",
       "      <td>Not rated</td>\n",
       "      <td>0</td>\n",
       "      <td>1000.000000</td>\n",
       "    </tr>\n",
       "    <tr>\n",
       "      <td>7921</td>\n",
       "      <td>Noida</td>\n",
       "      <td>77.325308</td>\n",
       "      <td>28.567150</td>\n",
       "      <td>450</td>\n",
       "      <td>No</td>\n",
       "      <td>No</td>\n",
       "      <td>1</td>\n",
       "      <td>2.0</td>\n",
       "      <td>Red</td>\n",
       "      <td>Poor</td>\n",
       "      <td>161</td>\n",
       "      <td>450.000000</td>\n",
       "    </tr>\n",
       "  </tbody>\n",
       "</table>\n",
       "<p>7922 rows × 12 columns</p>\n",
       "</div>"
      ],
      "text/plain": [
       "           City  Longitude   Latitude  target Has Table booking  \\\n",
       "0     Faridabad  77.306640  28.490059     250                No   \n",
       "1     New Delhi  77.049525  28.806199     500                No   \n",
       "2     Faridabad  77.304776  28.490157     500                No   \n",
       "3     Faridabad   0.000000   0.000000     300                No   \n",
       "4     Faridabad  77.305698  28.471985    1200               Yes   \n",
       "...         ...        ...        ...     ...               ...   \n",
       "7917      Noida  77.341021  28.585493    2500               Yes   \n",
       "7918      Noida  77.364833  28.597103     200                No   \n",
       "7919      Noida  77.364833  28.597103     450                No   \n",
       "7920      Noida  77.323213  28.567751    1000               Yes   \n",
       "7921      Noida  77.325308  28.567150     450                No   \n",
       "\n",
       "     Has Online delivery  Price range  Aggregate rating Rating color  \\\n",
       "0                     No            1               2.9       Orange   \n",
       "1                     No            2               0.0        White   \n",
       "2                     No            2               2.8       Orange   \n",
       "3                     No            1               0.0        White   \n",
       "4                     No            3               0.0        White   \n",
       "...                  ...          ...               ...          ...   \n",
       "7917                  No            4               2.2          Red   \n",
       "7918                  No            1               3.0       Orange   \n",
       "7919                 Yes            1               3.5       Yellow   \n",
       "7920                  No            3               0.0        White   \n",
       "7921                  No            1               2.0          Red   \n",
       "\n",
       "     Rating text  Votes      Cuisine  \n",
       "0        Average      4   375.000000  \n",
       "1      Not rated      0   375.000000  \n",
       "2        Average     16   594.303797  \n",
       "3      Not rated      0   594.303797  \n",
       "4      Not rated      0   594.303797  \n",
       "...          ...    ...          ...  \n",
       "7917        Poor    116  2500.000000  \n",
       "7918     Average     10   200.000000  \n",
       "7919        Good    105   450.000000  \n",
       "7920   Not rated      0  1000.000000  \n",
       "7921        Poor    161   450.000000  \n",
       "\n",
       "[7922 rows x 12 columns]"
      ]
     },
     "execution_count": 95,
     "metadata": {},
     "output_type": "execute_result"
    }
   ],
   "source": [
    "data"
   ]
  },
  {
   "cell_type": "code",
   "execution_count": 96,
   "metadata": {},
   "outputs": [],
   "source": [
    "data['Has Table booking'].replace(\"No\",0,inplace=True)\n",
    "data['Has Table booking'].replace(\"Yes\",1,inplace=True)"
   ]
  },
  {
   "cell_type": "code",
   "execution_count": 97,
   "metadata": {},
   "outputs": [
    {
     "data": {
      "text/html": [
       "<div>\n",
       "<style scoped>\n",
       "    .dataframe tbody tr th:only-of-type {\n",
       "        vertical-align: middle;\n",
       "    }\n",
       "\n",
       "    .dataframe tbody tr th {\n",
       "        vertical-align: top;\n",
       "    }\n",
       "\n",
       "    .dataframe thead th {\n",
       "        text-align: right;\n",
       "    }\n",
       "</style>\n",
       "<table border=\"1\" class=\"dataframe\">\n",
       "  <thead>\n",
       "    <tr style=\"text-align: right;\">\n",
       "      <th></th>\n",
       "      <th>City</th>\n",
       "      <th>Longitude</th>\n",
       "      <th>Latitude</th>\n",
       "      <th>target</th>\n",
       "      <th>Has Table booking</th>\n",
       "      <th>Has Online delivery</th>\n",
       "      <th>Price range</th>\n",
       "      <th>Aggregate rating</th>\n",
       "      <th>Rating color</th>\n",
       "      <th>Rating text</th>\n",
       "      <th>Votes</th>\n",
       "      <th>Cuisine</th>\n",
       "    </tr>\n",
       "  </thead>\n",
       "  <tbody>\n",
       "    <tr>\n",
       "      <td>0</td>\n",
       "      <td>Faridabad</td>\n",
       "      <td>77.306640</td>\n",
       "      <td>28.490059</td>\n",
       "      <td>250</td>\n",
       "      <td>0</td>\n",
       "      <td>No</td>\n",
       "      <td>1</td>\n",
       "      <td>2.9</td>\n",
       "      <td>Orange</td>\n",
       "      <td>Average</td>\n",
       "      <td>4</td>\n",
       "      <td>375.000000</td>\n",
       "    </tr>\n",
       "    <tr>\n",
       "      <td>1</td>\n",
       "      <td>New Delhi</td>\n",
       "      <td>77.049525</td>\n",
       "      <td>28.806199</td>\n",
       "      <td>500</td>\n",
       "      <td>0</td>\n",
       "      <td>No</td>\n",
       "      <td>2</td>\n",
       "      <td>0.0</td>\n",
       "      <td>White</td>\n",
       "      <td>Not rated</td>\n",
       "      <td>0</td>\n",
       "      <td>375.000000</td>\n",
       "    </tr>\n",
       "    <tr>\n",
       "      <td>2</td>\n",
       "      <td>Faridabad</td>\n",
       "      <td>77.304776</td>\n",
       "      <td>28.490157</td>\n",
       "      <td>500</td>\n",
       "      <td>0</td>\n",
       "      <td>No</td>\n",
       "      <td>2</td>\n",
       "      <td>2.8</td>\n",
       "      <td>Orange</td>\n",
       "      <td>Average</td>\n",
       "      <td>16</td>\n",
       "      <td>594.303797</td>\n",
       "    </tr>\n",
       "    <tr>\n",
       "      <td>3</td>\n",
       "      <td>Faridabad</td>\n",
       "      <td>0.000000</td>\n",
       "      <td>0.000000</td>\n",
       "      <td>300</td>\n",
       "      <td>0</td>\n",
       "      <td>No</td>\n",
       "      <td>1</td>\n",
       "      <td>0.0</td>\n",
       "      <td>White</td>\n",
       "      <td>Not rated</td>\n",
       "      <td>0</td>\n",
       "      <td>594.303797</td>\n",
       "    </tr>\n",
       "    <tr>\n",
       "      <td>4</td>\n",
       "      <td>Faridabad</td>\n",
       "      <td>77.305698</td>\n",
       "      <td>28.471985</td>\n",
       "      <td>1200</td>\n",
       "      <td>1</td>\n",
       "      <td>No</td>\n",
       "      <td>3</td>\n",
       "      <td>0.0</td>\n",
       "      <td>White</td>\n",
       "      <td>Not rated</td>\n",
       "      <td>0</td>\n",
       "      <td>594.303797</td>\n",
       "    </tr>\n",
       "    <tr>\n",
       "      <td>...</td>\n",
       "      <td>...</td>\n",
       "      <td>...</td>\n",
       "      <td>...</td>\n",
       "      <td>...</td>\n",
       "      <td>...</td>\n",
       "      <td>...</td>\n",
       "      <td>...</td>\n",
       "      <td>...</td>\n",
       "      <td>...</td>\n",
       "      <td>...</td>\n",
       "      <td>...</td>\n",
       "      <td>...</td>\n",
       "    </tr>\n",
       "    <tr>\n",
       "      <td>7917</td>\n",
       "      <td>Noida</td>\n",
       "      <td>77.341021</td>\n",
       "      <td>28.585493</td>\n",
       "      <td>2500</td>\n",
       "      <td>1</td>\n",
       "      <td>No</td>\n",
       "      <td>4</td>\n",
       "      <td>2.2</td>\n",
       "      <td>Red</td>\n",
       "      <td>Poor</td>\n",
       "      <td>116</td>\n",
       "      <td>2500.000000</td>\n",
       "    </tr>\n",
       "    <tr>\n",
       "      <td>7918</td>\n",
       "      <td>Noida</td>\n",
       "      <td>77.364833</td>\n",
       "      <td>28.597103</td>\n",
       "      <td>200</td>\n",
       "      <td>0</td>\n",
       "      <td>No</td>\n",
       "      <td>1</td>\n",
       "      <td>3.0</td>\n",
       "      <td>Orange</td>\n",
       "      <td>Average</td>\n",
       "      <td>10</td>\n",
       "      <td>200.000000</td>\n",
       "    </tr>\n",
       "    <tr>\n",
       "      <td>7919</td>\n",
       "      <td>Noida</td>\n",
       "      <td>77.364833</td>\n",
       "      <td>28.597103</td>\n",
       "      <td>450</td>\n",
       "      <td>0</td>\n",
       "      <td>Yes</td>\n",
       "      <td>1</td>\n",
       "      <td>3.5</td>\n",
       "      <td>Yellow</td>\n",
       "      <td>Good</td>\n",
       "      <td>105</td>\n",
       "      <td>450.000000</td>\n",
       "    </tr>\n",
       "    <tr>\n",
       "      <td>7920</td>\n",
       "      <td>Noida</td>\n",
       "      <td>77.323213</td>\n",
       "      <td>28.567751</td>\n",
       "      <td>1000</td>\n",
       "      <td>1</td>\n",
       "      <td>No</td>\n",
       "      <td>3</td>\n",
       "      <td>0.0</td>\n",
       "      <td>White</td>\n",
       "      <td>Not rated</td>\n",
       "      <td>0</td>\n",
       "      <td>1000.000000</td>\n",
       "    </tr>\n",
       "    <tr>\n",
       "      <td>7921</td>\n",
       "      <td>Noida</td>\n",
       "      <td>77.325308</td>\n",
       "      <td>28.567150</td>\n",
       "      <td>450</td>\n",
       "      <td>0</td>\n",
       "      <td>No</td>\n",
       "      <td>1</td>\n",
       "      <td>2.0</td>\n",
       "      <td>Red</td>\n",
       "      <td>Poor</td>\n",
       "      <td>161</td>\n",
       "      <td>450.000000</td>\n",
       "    </tr>\n",
       "  </tbody>\n",
       "</table>\n",
       "<p>7922 rows × 12 columns</p>\n",
       "</div>"
      ],
      "text/plain": [
       "           City  Longitude   Latitude  target  Has Table booking  \\\n",
       "0     Faridabad  77.306640  28.490059     250                  0   \n",
       "1     New Delhi  77.049525  28.806199     500                  0   \n",
       "2     Faridabad  77.304776  28.490157     500                  0   \n",
       "3     Faridabad   0.000000   0.000000     300                  0   \n",
       "4     Faridabad  77.305698  28.471985    1200                  1   \n",
       "...         ...        ...        ...     ...                ...   \n",
       "7917      Noida  77.341021  28.585493    2500                  1   \n",
       "7918      Noida  77.364833  28.597103     200                  0   \n",
       "7919      Noida  77.364833  28.597103     450                  0   \n",
       "7920      Noida  77.323213  28.567751    1000                  1   \n",
       "7921      Noida  77.325308  28.567150     450                  0   \n",
       "\n",
       "     Has Online delivery  Price range  Aggregate rating Rating color  \\\n",
       "0                     No            1               2.9       Orange   \n",
       "1                     No            2               0.0        White   \n",
       "2                     No            2               2.8       Orange   \n",
       "3                     No            1               0.0        White   \n",
       "4                     No            3               0.0        White   \n",
       "...                  ...          ...               ...          ...   \n",
       "7917                  No            4               2.2          Red   \n",
       "7918                  No            1               3.0       Orange   \n",
       "7919                 Yes            1               3.5       Yellow   \n",
       "7920                  No            3               0.0        White   \n",
       "7921                  No            1               2.0          Red   \n",
       "\n",
       "     Rating text  Votes      Cuisine  \n",
       "0        Average      4   375.000000  \n",
       "1      Not rated      0   375.000000  \n",
       "2        Average     16   594.303797  \n",
       "3      Not rated      0   594.303797  \n",
       "4      Not rated      0   594.303797  \n",
       "...          ...    ...          ...  \n",
       "7917        Poor    116  2500.000000  \n",
       "7918     Average     10   200.000000  \n",
       "7919        Good    105   450.000000  \n",
       "7920   Not rated      0  1000.000000  \n",
       "7921        Poor    161   450.000000  \n",
       "\n",
       "[7922 rows x 12 columns]"
      ]
     },
     "execution_count": 97,
     "metadata": {},
     "output_type": "execute_result"
    }
   ],
   "source": [
    "data"
   ]
  },
  {
   "cell_type": "code",
   "execution_count": 98,
   "metadata": {},
   "outputs": [
    {
     "data": {
      "text/plain": [
       "0    6876\n",
       "1    1046\n",
       "Name: Has Table booking, dtype: int64"
      ]
     },
     "execution_count": 98,
     "metadata": {},
     "output_type": "execute_result"
    }
   ],
   "source": [
    "data['Has Table booking'].value_counts()"
   ]
  },
  {
   "cell_type": "code",
   "execution_count": 99,
   "metadata": {},
   "outputs": [
    {
     "data": {
      "text/html": [
       "<div>\n",
       "<style scoped>\n",
       "    .dataframe tbody tr th:only-of-type {\n",
       "        vertical-align: middle;\n",
       "    }\n",
       "\n",
       "    .dataframe tbody tr th {\n",
       "        vertical-align: top;\n",
       "    }\n",
       "\n",
       "    .dataframe thead th {\n",
       "        text-align: right;\n",
       "    }\n",
       "</style>\n",
       "<table border=\"1\" class=\"dataframe\">\n",
       "  <thead>\n",
       "    <tr style=\"text-align: right;\">\n",
       "      <th></th>\n",
       "      <th>City</th>\n",
       "      <th>Longitude</th>\n",
       "      <th>Latitude</th>\n",
       "      <th>target</th>\n",
       "      <th>Has Table booking</th>\n",
       "      <th>Has Online delivery</th>\n",
       "      <th>Price range</th>\n",
       "      <th>Aggregate rating</th>\n",
       "      <th>Rating color</th>\n",
       "      <th>Rating text</th>\n",
       "      <th>Votes</th>\n",
       "      <th>Cuisine</th>\n",
       "    </tr>\n",
       "  </thead>\n",
       "  <tbody>\n",
       "    <tr>\n",
       "      <td>0</td>\n",
       "      <td>Faridabad</td>\n",
       "      <td>77.306640</td>\n",
       "      <td>28.490059</td>\n",
       "      <td>250</td>\n",
       "      <td>0</td>\n",
       "      <td>0</td>\n",
       "      <td>1</td>\n",
       "      <td>2.9</td>\n",
       "      <td>Orange</td>\n",
       "      <td>Average</td>\n",
       "      <td>4</td>\n",
       "      <td>375.000000</td>\n",
       "    </tr>\n",
       "    <tr>\n",
       "      <td>1</td>\n",
       "      <td>New Delhi</td>\n",
       "      <td>77.049525</td>\n",
       "      <td>28.806199</td>\n",
       "      <td>500</td>\n",
       "      <td>0</td>\n",
       "      <td>0</td>\n",
       "      <td>2</td>\n",
       "      <td>0.0</td>\n",
       "      <td>White</td>\n",
       "      <td>Not rated</td>\n",
       "      <td>0</td>\n",
       "      <td>375.000000</td>\n",
       "    </tr>\n",
       "    <tr>\n",
       "      <td>2</td>\n",
       "      <td>Faridabad</td>\n",
       "      <td>77.304776</td>\n",
       "      <td>28.490157</td>\n",
       "      <td>500</td>\n",
       "      <td>0</td>\n",
       "      <td>0</td>\n",
       "      <td>2</td>\n",
       "      <td>2.8</td>\n",
       "      <td>Orange</td>\n",
       "      <td>Average</td>\n",
       "      <td>16</td>\n",
       "      <td>594.303797</td>\n",
       "    </tr>\n",
       "    <tr>\n",
       "      <td>3</td>\n",
       "      <td>Faridabad</td>\n",
       "      <td>0.000000</td>\n",
       "      <td>0.000000</td>\n",
       "      <td>300</td>\n",
       "      <td>0</td>\n",
       "      <td>0</td>\n",
       "      <td>1</td>\n",
       "      <td>0.0</td>\n",
       "      <td>White</td>\n",
       "      <td>Not rated</td>\n",
       "      <td>0</td>\n",
       "      <td>594.303797</td>\n",
       "    </tr>\n",
       "    <tr>\n",
       "      <td>4</td>\n",
       "      <td>Faridabad</td>\n",
       "      <td>77.305698</td>\n",
       "      <td>28.471985</td>\n",
       "      <td>1200</td>\n",
       "      <td>1</td>\n",
       "      <td>0</td>\n",
       "      <td>3</td>\n",
       "      <td>0.0</td>\n",
       "      <td>White</td>\n",
       "      <td>Not rated</td>\n",
       "      <td>0</td>\n",
       "      <td>594.303797</td>\n",
       "    </tr>\n",
       "    <tr>\n",
       "      <td>...</td>\n",
       "      <td>...</td>\n",
       "      <td>...</td>\n",
       "      <td>...</td>\n",
       "      <td>...</td>\n",
       "      <td>...</td>\n",
       "      <td>...</td>\n",
       "      <td>...</td>\n",
       "      <td>...</td>\n",
       "      <td>...</td>\n",
       "      <td>...</td>\n",
       "      <td>...</td>\n",
       "      <td>...</td>\n",
       "    </tr>\n",
       "    <tr>\n",
       "      <td>7917</td>\n",
       "      <td>Noida</td>\n",
       "      <td>77.341021</td>\n",
       "      <td>28.585493</td>\n",
       "      <td>2500</td>\n",
       "      <td>1</td>\n",
       "      <td>0</td>\n",
       "      <td>4</td>\n",
       "      <td>2.2</td>\n",
       "      <td>Red</td>\n",
       "      <td>Poor</td>\n",
       "      <td>116</td>\n",
       "      <td>2500.000000</td>\n",
       "    </tr>\n",
       "    <tr>\n",
       "      <td>7918</td>\n",
       "      <td>Noida</td>\n",
       "      <td>77.364833</td>\n",
       "      <td>28.597103</td>\n",
       "      <td>200</td>\n",
       "      <td>0</td>\n",
       "      <td>0</td>\n",
       "      <td>1</td>\n",
       "      <td>3.0</td>\n",
       "      <td>Orange</td>\n",
       "      <td>Average</td>\n",
       "      <td>10</td>\n",
       "      <td>200.000000</td>\n",
       "    </tr>\n",
       "    <tr>\n",
       "      <td>7919</td>\n",
       "      <td>Noida</td>\n",
       "      <td>77.364833</td>\n",
       "      <td>28.597103</td>\n",
       "      <td>450</td>\n",
       "      <td>0</td>\n",
       "      <td>1</td>\n",
       "      <td>1</td>\n",
       "      <td>3.5</td>\n",
       "      <td>Yellow</td>\n",
       "      <td>Good</td>\n",
       "      <td>105</td>\n",
       "      <td>450.000000</td>\n",
       "    </tr>\n",
       "    <tr>\n",
       "      <td>7920</td>\n",
       "      <td>Noida</td>\n",
       "      <td>77.323213</td>\n",
       "      <td>28.567751</td>\n",
       "      <td>1000</td>\n",
       "      <td>1</td>\n",
       "      <td>0</td>\n",
       "      <td>3</td>\n",
       "      <td>0.0</td>\n",
       "      <td>White</td>\n",
       "      <td>Not rated</td>\n",
       "      <td>0</td>\n",
       "      <td>1000.000000</td>\n",
       "    </tr>\n",
       "    <tr>\n",
       "      <td>7921</td>\n",
       "      <td>Noida</td>\n",
       "      <td>77.325308</td>\n",
       "      <td>28.567150</td>\n",
       "      <td>450</td>\n",
       "      <td>0</td>\n",
       "      <td>0</td>\n",
       "      <td>1</td>\n",
       "      <td>2.0</td>\n",
       "      <td>Red</td>\n",
       "      <td>Poor</td>\n",
       "      <td>161</td>\n",
       "      <td>450.000000</td>\n",
       "    </tr>\n",
       "  </tbody>\n",
       "</table>\n",
       "<p>7922 rows × 12 columns</p>\n",
       "</div>"
      ],
      "text/plain": [
       "           City  Longitude   Latitude  target  Has Table booking  \\\n",
       "0     Faridabad  77.306640  28.490059     250                  0   \n",
       "1     New Delhi  77.049525  28.806199     500                  0   \n",
       "2     Faridabad  77.304776  28.490157     500                  0   \n",
       "3     Faridabad   0.000000   0.000000     300                  0   \n",
       "4     Faridabad  77.305698  28.471985    1200                  1   \n",
       "...         ...        ...        ...     ...                ...   \n",
       "7917      Noida  77.341021  28.585493    2500                  1   \n",
       "7918      Noida  77.364833  28.597103     200                  0   \n",
       "7919      Noida  77.364833  28.597103     450                  0   \n",
       "7920      Noida  77.323213  28.567751    1000                  1   \n",
       "7921      Noida  77.325308  28.567150     450                  0   \n",
       "\n",
       "      Has Online delivery  Price range  Aggregate rating Rating color  \\\n",
       "0                       0            1               2.9       Orange   \n",
       "1                       0            2               0.0        White   \n",
       "2                       0            2               2.8       Orange   \n",
       "3                       0            1               0.0        White   \n",
       "4                       0            3               0.0        White   \n",
       "...                   ...          ...               ...          ...   \n",
       "7917                    0            4               2.2          Red   \n",
       "7918                    0            1               3.0       Orange   \n",
       "7919                    1            1               3.5       Yellow   \n",
       "7920                    0            3               0.0        White   \n",
       "7921                    0            1               2.0          Red   \n",
       "\n",
       "     Rating text  Votes      Cuisine  \n",
       "0        Average      4   375.000000  \n",
       "1      Not rated      0   375.000000  \n",
       "2        Average     16   594.303797  \n",
       "3      Not rated      0   594.303797  \n",
       "4      Not rated      0   594.303797  \n",
       "...          ...    ...          ...  \n",
       "7917        Poor    116  2500.000000  \n",
       "7918     Average     10   200.000000  \n",
       "7919        Good    105   450.000000  \n",
       "7920   Not rated      0  1000.000000  \n",
       "7921        Poor    161   450.000000  \n",
       "\n",
       "[7922 rows x 12 columns]"
      ]
     },
     "execution_count": 99,
     "metadata": {},
     "output_type": "execute_result"
    }
   ],
   "source": [
    "data['Has Online delivery'].replace(\"No\",0,inplace=True)\n",
    "data['Has Online delivery'].replace(\"Yes\",1,inplace=True)\n",
    "data"
   ]
  },
  {
   "cell_type": "code",
   "execution_count": 100,
   "metadata": {},
   "outputs": [
    {
     "data": {
      "text/plain": [
       "Index(['City', 'Longitude', 'Latitude', 'target', 'Has Table booking',\n",
       "       'Has Online delivery', 'Price range', 'Aggregate rating',\n",
       "       'Rating color', 'Rating text', 'Votes', 'Cuisine'],\n",
       "      dtype='object')"
      ]
     },
     "execution_count": 100,
     "metadata": {},
     "output_type": "execute_result"
    }
   ],
   "source": [
    "data.columns"
   ]
  },
  {
   "cell_type": "code",
   "execution_count": 101,
   "metadata": {},
   "outputs": [
    {
     "data": {
      "text/plain": [
       "1    4221\n",
       "2    2583\n",
       "3     814\n",
       "4     304\n",
       "Name: Price range, dtype: int64"
      ]
     },
     "execution_count": 101,
     "metadata": {},
     "output_type": "execute_result"
    }
   ],
   "source": [
    "data['Price range'].value_counts()"
   ]
  },
  {
   "cell_type": "code",
   "execution_count": 102,
   "metadata": {},
   "outputs": [
    {
     "data": {
      "text/plain": [
       "Orange        3571\n",
       "White         2137\n",
       "Yellow        1580\n",
       "Green          413\n",
       "Red            178\n",
       "Dark Green      43\n",
       "Name: Rating color, dtype: int64"
      ]
     },
     "execution_count": 102,
     "metadata": {},
     "output_type": "execute_result"
    }
   ],
   "source": [
    "data['Rating color'].value_counts()"
   ]
  },
  {
   "cell_type": "code",
   "execution_count": 103,
   "metadata": {},
   "outputs": [
    {
     "data": {
      "text/plain": [
       "Average      3571\n",
       "Not rated    2137\n",
       "Good         1580\n",
       "Very Good     413\n",
       "Poor          178\n",
       "Excellent      43\n",
       "Name: Rating text, dtype: int64"
      ]
     },
     "execution_count": 103,
     "metadata": {},
     "output_type": "execute_result"
    }
   ],
   "source": [
    "data['Rating text'].value_counts()"
   ]
  },
  {
   "cell_type": "code",
   "execution_count": 104,
   "metadata": {},
   "outputs": [
    {
     "data": {
      "text/html": [
       "<div>\n",
       "<style scoped>\n",
       "    .dataframe tbody tr th:only-of-type {\n",
       "        vertical-align: middle;\n",
       "    }\n",
       "\n",
       "    .dataframe tbody tr th {\n",
       "        vertical-align: top;\n",
       "    }\n",
       "\n",
       "    .dataframe thead th {\n",
       "        text-align: right;\n",
       "    }\n",
       "</style>\n",
       "<table border=\"1\" class=\"dataframe\">\n",
       "  <thead>\n",
       "    <tr style=\"text-align: right;\">\n",
       "      <th></th>\n",
       "      <th>Longitude</th>\n",
       "      <th>Latitude</th>\n",
       "      <th>target</th>\n",
       "      <th>Has Table booking</th>\n",
       "      <th>Has Online delivery</th>\n",
       "      <th>Price range</th>\n",
       "      <th>Aggregate rating</th>\n",
       "      <th>Votes</th>\n",
       "      <th>Cuisine</th>\n",
       "    </tr>\n",
       "  </thead>\n",
       "  <tbody>\n",
       "    <tr>\n",
       "      <td>Longitude</td>\n",
       "      <td>1.000000</td>\n",
       "      <td>0.997829</td>\n",
       "      <td>0.071752</td>\n",
       "      <td>0.059417</td>\n",
       "      <td>0.138671</td>\n",
       "      <td>0.083845</td>\n",
       "      <td>0.224523</td>\n",
       "      <td>0.071641</td>\n",
       "      <td>0.048805</td>\n",
       "    </tr>\n",
       "    <tr>\n",
       "      <td>Latitude</td>\n",
       "      <td>0.997829</td>\n",
       "      <td>1.000000</td>\n",
       "      <td>0.070993</td>\n",
       "      <td>0.059974</td>\n",
       "      <td>0.138488</td>\n",
       "      <td>0.083131</td>\n",
       "      <td>0.224383</td>\n",
       "      <td>0.071598</td>\n",
       "      <td>0.048014</td>\n",
       "    </tr>\n",
       "    <tr>\n",
       "      <td>target</td>\n",
       "      <td>0.071752</td>\n",
       "      <td>0.070993</td>\n",
       "      <td>1.000000</td>\n",
       "      <td>0.642966</td>\n",
       "      <td>0.076953</td>\n",
       "      <td>0.847985</td>\n",
       "      <td>0.328440</td>\n",
       "      <td>0.299089</td>\n",
       "      <td>0.808274</td>\n",
       "    </tr>\n",
       "    <tr>\n",
       "      <td>Has Table booking</td>\n",
       "      <td>0.059417</td>\n",
       "      <td>0.059974</td>\n",
       "      <td>0.642966</td>\n",
       "      <td>1.000000</td>\n",
       "      <td>0.074300</td>\n",
       "      <td>0.658627</td>\n",
       "      <td>0.248363</td>\n",
       "      <td>0.223811</td>\n",
       "      <td>0.563860</td>\n",
       "    </tr>\n",
       "    <tr>\n",
       "      <td>Has Online delivery</td>\n",
       "      <td>0.138671</td>\n",
       "      <td>0.138488</td>\n",
       "      <td>0.076953</td>\n",
       "      <td>0.074300</td>\n",
       "      <td>1.000000</td>\n",
       "      <td>0.188798</td>\n",
       "      <td>0.341197</td>\n",
       "      <td>0.123734</td>\n",
       "      <td>0.063178</td>\n",
       "    </tr>\n",
       "    <tr>\n",
       "      <td>Price range</td>\n",
       "      <td>0.083845</td>\n",
       "      <td>0.083131</td>\n",
       "      <td>0.847985</td>\n",
       "      <td>0.658627</td>\n",
       "      <td>0.188798</td>\n",
       "      <td>1.000000</td>\n",
       "      <td>0.370212</td>\n",
       "      <td>0.325602</td>\n",
       "      <td>0.720934</td>\n",
       "    </tr>\n",
       "    <tr>\n",
       "      <td>Aggregate rating</td>\n",
       "      <td>0.224523</td>\n",
       "      <td>0.224383</td>\n",
       "      <td>0.328440</td>\n",
       "      <td>0.248363</td>\n",
       "      <td>0.341197</td>\n",
       "      <td>0.370212</td>\n",
       "      <td>1.000000</td>\n",
       "      <td>0.291076</td>\n",
       "      <td>0.267418</td>\n",
       "    </tr>\n",
       "    <tr>\n",
       "      <td>Votes</td>\n",
       "      <td>0.071641</td>\n",
       "      <td>0.071598</td>\n",
       "      <td>0.299089</td>\n",
       "      <td>0.223811</td>\n",
       "      <td>0.123734</td>\n",
       "      <td>0.325602</td>\n",
       "      <td>0.291076</td>\n",
       "      <td>1.000000</td>\n",
       "      <td>0.274963</td>\n",
       "    </tr>\n",
       "    <tr>\n",
       "      <td>Cuisine</td>\n",
       "      <td>0.048805</td>\n",
       "      <td>0.048014</td>\n",
       "      <td>0.808274</td>\n",
       "      <td>0.563860</td>\n",
       "      <td>0.063178</td>\n",
       "      <td>0.720934</td>\n",
       "      <td>0.267418</td>\n",
       "      <td>0.274963</td>\n",
       "      <td>1.000000</td>\n",
       "    </tr>\n",
       "  </tbody>\n",
       "</table>\n",
       "</div>"
      ],
      "text/plain": [
       "                     Longitude  Latitude    target  Has Table booking  \\\n",
       "Longitude             1.000000  0.997829  0.071752           0.059417   \n",
       "Latitude              0.997829  1.000000  0.070993           0.059974   \n",
       "target                0.071752  0.070993  1.000000           0.642966   \n",
       "Has Table booking     0.059417  0.059974  0.642966           1.000000   \n",
       "Has Online delivery   0.138671  0.138488  0.076953           0.074300   \n",
       "Price range           0.083845  0.083131  0.847985           0.658627   \n",
       "Aggregate rating      0.224523  0.224383  0.328440           0.248363   \n",
       "Votes                 0.071641  0.071598  0.299089           0.223811   \n",
       "Cuisine               0.048805  0.048014  0.808274           0.563860   \n",
       "\n",
       "                     Has Online delivery  Price range  Aggregate rating  \\\n",
       "Longitude                       0.138671     0.083845          0.224523   \n",
       "Latitude                        0.138488     0.083131          0.224383   \n",
       "target                          0.076953     0.847985          0.328440   \n",
       "Has Table booking               0.074300     0.658627          0.248363   \n",
       "Has Online delivery             1.000000     0.188798          0.341197   \n",
       "Price range                     0.188798     1.000000          0.370212   \n",
       "Aggregate rating                0.341197     0.370212          1.000000   \n",
       "Votes                           0.123734     0.325602          0.291076   \n",
       "Cuisine                         0.063178     0.720934          0.267418   \n",
       "\n",
       "                        Votes   Cuisine  \n",
       "Longitude            0.071641  0.048805  \n",
       "Latitude             0.071598  0.048014  \n",
       "target               0.299089  0.808274  \n",
       "Has Table booking    0.223811  0.563860  \n",
       "Has Online delivery  0.123734  0.063178  \n",
       "Price range          0.325602  0.720934  \n",
       "Aggregate rating     0.291076  0.267418  \n",
       "Votes                1.000000  0.274963  \n",
       "Cuisine              0.274963  1.000000  "
      ]
     },
     "execution_count": 104,
     "metadata": {},
     "output_type": "execute_result"
    }
   ],
   "source": [
    "#correlation between numeric columns\n",
    "data.corr()"
   ]
  },
  {
   "cell_type": "code",
   "execution_count": 105,
   "metadata": {},
   "outputs": [
    {
     "data": {
      "text/plain": [
       "Longitude              0.071752\n",
       "Latitude               0.070993\n",
       "target                 1.000000\n",
       "Has Table booking      0.642966\n",
       "Has Online delivery    0.076953\n",
       "Price range            0.847985\n",
       "Aggregate rating       0.328440\n",
       "Votes                  0.299089\n",
       "Cuisine                0.808274\n",
       "Name: target, dtype: float64"
      ]
     },
     "execution_count": 105,
     "metadata": {},
     "output_type": "execute_result"
    }
   ],
   "source": [
    "#correlation with Target\n",
    "data.corr()['target']"
   ]
  },
  {
   "cell_type": "code",
   "execution_count": 106,
   "metadata": {},
   "outputs": [],
   "source": [
    "data.drop(columns=['Rating color','Has Online delivery'],inplace=True)"
   ]
  },
  {
   "cell_type": "code",
   "execution_count": 107,
   "metadata": {},
   "outputs": [
    {
     "data": {
      "text/html": [
       "<div>\n",
       "<style scoped>\n",
       "    .dataframe tbody tr th:only-of-type {\n",
       "        vertical-align: middle;\n",
       "    }\n",
       "\n",
       "    .dataframe tbody tr th {\n",
       "        vertical-align: top;\n",
       "    }\n",
       "\n",
       "    .dataframe thead th {\n",
       "        text-align: right;\n",
       "    }\n",
       "</style>\n",
       "<table border=\"1\" class=\"dataframe\">\n",
       "  <thead>\n",
       "    <tr style=\"text-align: right;\">\n",
       "      <th></th>\n",
       "      <th>City</th>\n",
       "      <th>Longitude</th>\n",
       "      <th>Latitude</th>\n",
       "      <th>target</th>\n",
       "      <th>Has Table booking</th>\n",
       "      <th>Price range</th>\n",
       "      <th>Aggregate rating</th>\n",
       "      <th>Rating text</th>\n",
       "      <th>Votes</th>\n",
       "      <th>Cuisine</th>\n",
       "    </tr>\n",
       "  </thead>\n",
       "  <tbody>\n",
       "    <tr>\n",
       "      <td>0</td>\n",
       "      <td>Faridabad</td>\n",
       "      <td>77.306640</td>\n",
       "      <td>28.490059</td>\n",
       "      <td>250</td>\n",
       "      <td>0</td>\n",
       "      <td>1</td>\n",
       "      <td>2.9</td>\n",
       "      <td>Average</td>\n",
       "      <td>4</td>\n",
       "      <td>375.000000</td>\n",
       "    </tr>\n",
       "    <tr>\n",
       "      <td>1</td>\n",
       "      <td>New Delhi</td>\n",
       "      <td>77.049525</td>\n",
       "      <td>28.806199</td>\n",
       "      <td>500</td>\n",
       "      <td>0</td>\n",
       "      <td>2</td>\n",
       "      <td>0.0</td>\n",
       "      <td>Not rated</td>\n",
       "      <td>0</td>\n",
       "      <td>375.000000</td>\n",
       "    </tr>\n",
       "    <tr>\n",
       "      <td>2</td>\n",
       "      <td>Faridabad</td>\n",
       "      <td>77.304776</td>\n",
       "      <td>28.490157</td>\n",
       "      <td>500</td>\n",
       "      <td>0</td>\n",
       "      <td>2</td>\n",
       "      <td>2.8</td>\n",
       "      <td>Average</td>\n",
       "      <td>16</td>\n",
       "      <td>594.303797</td>\n",
       "    </tr>\n",
       "    <tr>\n",
       "      <td>3</td>\n",
       "      <td>Faridabad</td>\n",
       "      <td>0.000000</td>\n",
       "      <td>0.000000</td>\n",
       "      <td>300</td>\n",
       "      <td>0</td>\n",
       "      <td>1</td>\n",
       "      <td>0.0</td>\n",
       "      <td>Not rated</td>\n",
       "      <td>0</td>\n",
       "      <td>594.303797</td>\n",
       "    </tr>\n",
       "    <tr>\n",
       "      <td>4</td>\n",
       "      <td>Faridabad</td>\n",
       "      <td>77.305698</td>\n",
       "      <td>28.471985</td>\n",
       "      <td>1200</td>\n",
       "      <td>1</td>\n",
       "      <td>3</td>\n",
       "      <td>0.0</td>\n",
       "      <td>Not rated</td>\n",
       "      <td>0</td>\n",
       "      <td>594.303797</td>\n",
       "    </tr>\n",
       "    <tr>\n",
       "      <td>...</td>\n",
       "      <td>...</td>\n",
       "      <td>...</td>\n",
       "      <td>...</td>\n",
       "      <td>...</td>\n",
       "      <td>...</td>\n",
       "      <td>...</td>\n",
       "      <td>...</td>\n",
       "      <td>...</td>\n",
       "      <td>...</td>\n",
       "      <td>...</td>\n",
       "    </tr>\n",
       "    <tr>\n",
       "      <td>7917</td>\n",
       "      <td>Noida</td>\n",
       "      <td>77.341021</td>\n",
       "      <td>28.585493</td>\n",
       "      <td>2500</td>\n",
       "      <td>1</td>\n",
       "      <td>4</td>\n",
       "      <td>2.2</td>\n",
       "      <td>Poor</td>\n",
       "      <td>116</td>\n",
       "      <td>2500.000000</td>\n",
       "    </tr>\n",
       "    <tr>\n",
       "      <td>7918</td>\n",
       "      <td>Noida</td>\n",
       "      <td>77.364833</td>\n",
       "      <td>28.597103</td>\n",
       "      <td>200</td>\n",
       "      <td>0</td>\n",
       "      <td>1</td>\n",
       "      <td>3.0</td>\n",
       "      <td>Average</td>\n",
       "      <td>10</td>\n",
       "      <td>200.000000</td>\n",
       "    </tr>\n",
       "    <tr>\n",
       "      <td>7919</td>\n",
       "      <td>Noida</td>\n",
       "      <td>77.364833</td>\n",
       "      <td>28.597103</td>\n",
       "      <td>450</td>\n",
       "      <td>0</td>\n",
       "      <td>1</td>\n",
       "      <td>3.5</td>\n",
       "      <td>Good</td>\n",
       "      <td>105</td>\n",
       "      <td>450.000000</td>\n",
       "    </tr>\n",
       "    <tr>\n",
       "      <td>7920</td>\n",
       "      <td>Noida</td>\n",
       "      <td>77.323213</td>\n",
       "      <td>28.567751</td>\n",
       "      <td>1000</td>\n",
       "      <td>1</td>\n",
       "      <td>3</td>\n",
       "      <td>0.0</td>\n",
       "      <td>Not rated</td>\n",
       "      <td>0</td>\n",
       "      <td>1000.000000</td>\n",
       "    </tr>\n",
       "    <tr>\n",
       "      <td>7921</td>\n",
       "      <td>Noida</td>\n",
       "      <td>77.325308</td>\n",
       "      <td>28.567150</td>\n",
       "      <td>450</td>\n",
       "      <td>0</td>\n",
       "      <td>1</td>\n",
       "      <td>2.0</td>\n",
       "      <td>Poor</td>\n",
       "      <td>161</td>\n",
       "      <td>450.000000</td>\n",
       "    </tr>\n",
       "  </tbody>\n",
       "</table>\n",
       "<p>7922 rows × 10 columns</p>\n",
       "</div>"
      ],
      "text/plain": [
       "           City  Longitude   Latitude  target  Has Table booking  Price range  \\\n",
       "0     Faridabad  77.306640  28.490059     250                  0            1   \n",
       "1     New Delhi  77.049525  28.806199     500                  0            2   \n",
       "2     Faridabad  77.304776  28.490157     500                  0            2   \n",
       "3     Faridabad   0.000000   0.000000     300                  0            1   \n",
       "4     Faridabad  77.305698  28.471985    1200                  1            3   \n",
       "...         ...        ...        ...     ...                ...          ...   \n",
       "7917      Noida  77.341021  28.585493    2500                  1            4   \n",
       "7918      Noida  77.364833  28.597103     200                  0            1   \n",
       "7919      Noida  77.364833  28.597103     450                  0            1   \n",
       "7920      Noida  77.323213  28.567751    1000                  1            3   \n",
       "7921      Noida  77.325308  28.567150     450                  0            1   \n",
       "\n",
       "      Aggregate rating Rating text  Votes      Cuisine  \n",
       "0                  2.9     Average      4   375.000000  \n",
       "1                  0.0   Not rated      0   375.000000  \n",
       "2                  2.8     Average     16   594.303797  \n",
       "3                  0.0   Not rated      0   594.303797  \n",
       "4                  0.0   Not rated      0   594.303797  \n",
       "...                ...         ...    ...          ...  \n",
       "7917               2.2        Poor    116  2500.000000  \n",
       "7918               3.0     Average     10   200.000000  \n",
       "7919               3.5        Good    105   450.000000  \n",
       "7920               0.0   Not rated      0  1000.000000  \n",
       "7921               2.0        Poor    161   450.000000  \n",
       "\n",
       "[7922 rows x 10 columns]"
      ]
     },
     "execution_count": 107,
     "metadata": {},
     "output_type": "execute_result"
    }
   ],
   "source": [
    "data"
   ]
  },
  {
   "cell_type": "code",
   "execution_count": 108,
   "metadata": {},
   "outputs": [],
   "source": [
    "#Extracting Input and Output"
   ]
  },
  {
   "cell_type": "code",
   "execution_count": 109,
   "metadata": {},
   "outputs": [
    {
     "data": {
      "text/plain": [
       "array([ 250,  500,  500, ...,  450, 1000,  450], dtype=int64)"
      ]
     },
     "execution_count": 109,
     "metadata": {},
     "output_type": "execute_result"
    }
   ],
   "source": [
    "y=data['target'].values\n",
    "y"
   ]
  },
  {
   "cell_type": "code",
   "execution_count": 110,
   "metadata": {},
   "outputs": [
    {
     "data": {
      "text/html": [
       "<div>\n",
       "<style scoped>\n",
       "    .dataframe tbody tr th:only-of-type {\n",
       "        vertical-align: middle;\n",
       "    }\n",
       "\n",
       "    .dataframe tbody tr th {\n",
       "        vertical-align: top;\n",
       "    }\n",
       "\n",
       "    .dataframe thead th {\n",
       "        text-align: right;\n",
       "    }\n",
       "</style>\n",
       "<table border=\"1\" class=\"dataframe\">\n",
       "  <thead>\n",
       "    <tr style=\"text-align: right;\">\n",
       "      <th></th>\n",
       "      <th>City</th>\n",
       "      <th>Longitude</th>\n",
       "      <th>Latitude</th>\n",
       "      <th>Has Table booking</th>\n",
       "      <th>Price range</th>\n",
       "      <th>Aggregate rating</th>\n",
       "      <th>Rating text</th>\n",
       "      <th>Votes</th>\n",
       "      <th>Cuisine</th>\n",
       "    </tr>\n",
       "  </thead>\n",
       "  <tbody>\n",
       "    <tr>\n",
       "      <td>0</td>\n",
       "      <td>Faridabad</td>\n",
       "      <td>77.306640</td>\n",
       "      <td>28.490059</td>\n",
       "      <td>0</td>\n",
       "      <td>1</td>\n",
       "      <td>2.9</td>\n",
       "      <td>Average</td>\n",
       "      <td>4</td>\n",
       "      <td>375.000000</td>\n",
       "    </tr>\n",
       "    <tr>\n",
       "      <td>1</td>\n",
       "      <td>New Delhi</td>\n",
       "      <td>77.049525</td>\n",
       "      <td>28.806199</td>\n",
       "      <td>0</td>\n",
       "      <td>2</td>\n",
       "      <td>0.0</td>\n",
       "      <td>Not rated</td>\n",
       "      <td>0</td>\n",
       "      <td>375.000000</td>\n",
       "    </tr>\n",
       "    <tr>\n",
       "      <td>2</td>\n",
       "      <td>Faridabad</td>\n",
       "      <td>77.304776</td>\n",
       "      <td>28.490157</td>\n",
       "      <td>0</td>\n",
       "      <td>2</td>\n",
       "      <td>2.8</td>\n",
       "      <td>Average</td>\n",
       "      <td>16</td>\n",
       "      <td>594.303797</td>\n",
       "    </tr>\n",
       "    <tr>\n",
       "      <td>3</td>\n",
       "      <td>Faridabad</td>\n",
       "      <td>0.000000</td>\n",
       "      <td>0.000000</td>\n",
       "      <td>0</td>\n",
       "      <td>1</td>\n",
       "      <td>0.0</td>\n",
       "      <td>Not rated</td>\n",
       "      <td>0</td>\n",
       "      <td>594.303797</td>\n",
       "    </tr>\n",
       "    <tr>\n",
       "      <td>4</td>\n",
       "      <td>Faridabad</td>\n",
       "      <td>77.305698</td>\n",
       "      <td>28.471985</td>\n",
       "      <td>1</td>\n",
       "      <td>3</td>\n",
       "      <td>0.0</td>\n",
       "      <td>Not rated</td>\n",
       "      <td>0</td>\n",
       "      <td>594.303797</td>\n",
       "    </tr>\n",
       "    <tr>\n",
       "      <td>...</td>\n",
       "      <td>...</td>\n",
       "      <td>...</td>\n",
       "      <td>...</td>\n",
       "      <td>...</td>\n",
       "      <td>...</td>\n",
       "      <td>...</td>\n",
       "      <td>...</td>\n",
       "      <td>...</td>\n",
       "      <td>...</td>\n",
       "    </tr>\n",
       "    <tr>\n",
       "      <td>7917</td>\n",
       "      <td>Noida</td>\n",
       "      <td>77.341021</td>\n",
       "      <td>28.585493</td>\n",
       "      <td>1</td>\n",
       "      <td>4</td>\n",
       "      <td>2.2</td>\n",
       "      <td>Poor</td>\n",
       "      <td>116</td>\n",
       "      <td>2500.000000</td>\n",
       "    </tr>\n",
       "    <tr>\n",
       "      <td>7918</td>\n",
       "      <td>Noida</td>\n",
       "      <td>77.364833</td>\n",
       "      <td>28.597103</td>\n",
       "      <td>0</td>\n",
       "      <td>1</td>\n",
       "      <td>3.0</td>\n",
       "      <td>Average</td>\n",
       "      <td>10</td>\n",
       "      <td>200.000000</td>\n",
       "    </tr>\n",
       "    <tr>\n",
       "      <td>7919</td>\n",
       "      <td>Noida</td>\n",
       "      <td>77.364833</td>\n",
       "      <td>28.597103</td>\n",
       "      <td>0</td>\n",
       "      <td>1</td>\n",
       "      <td>3.5</td>\n",
       "      <td>Good</td>\n",
       "      <td>105</td>\n",
       "      <td>450.000000</td>\n",
       "    </tr>\n",
       "    <tr>\n",
       "      <td>7920</td>\n",
       "      <td>Noida</td>\n",
       "      <td>77.323213</td>\n",
       "      <td>28.567751</td>\n",
       "      <td>1</td>\n",
       "      <td>3</td>\n",
       "      <td>0.0</td>\n",
       "      <td>Not rated</td>\n",
       "      <td>0</td>\n",
       "      <td>1000.000000</td>\n",
       "    </tr>\n",
       "    <tr>\n",
       "      <td>7921</td>\n",
       "      <td>Noida</td>\n",
       "      <td>77.325308</td>\n",
       "      <td>28.567150</td>\n",
       "      <td>0</td>\n",
       "      <td>1</td>\n",
       "      <td>2.0</td>\n",
       "      <td>Poor</td>\n",
       "      <td>161</td>\n",
       "      <td>450.000000</td>\n",
       "    </tr>\n",
       "  </tbody>\n",
       "</table>\n",
       "<p>7922 rows × 9 columns</p>\n",
       "</div>"
      ],
      "text/plain": [
       "           City  Longitude   Latitude  Has Table booking  Price range  \\\n",
       "0     Faridabad  77.306640  28.490059                  0            1   \n",
       "1     New Delhi  77.049525  28.806199                  0            2   \n",
       "2     Faridabad  77.304776  28.490157                  0            2   \n",
       "3     Faridabad   0.000000   0.000000                  0            1   \n",
       "4     Faridabad  77.305698  28.471985                  1            3   \n",
       "...         ...        ...        ...                ...          ...   \n",
       "7917      Noida  77.341021  28.585493                  1            4   \n",
       "7918      Noida  77.364833  28.597103                  0            1   \n",
       "7919      Noida  77.364833  28.597103                  0            1   \n",
       "7920      Noida  77.323213  28.567751                  1            3   \n",
       "7921      Noida  77.325308  28.567150                  0            1   \n",
       "\n",
       "      Aggregate rating Rating text  Votes      Cuisine  \n",
       "0                  2.9     Average      4   375.000000  \n",
       "1                  0.0   Not rated      0   375.000000  \n",
       "2                  2.8     Average     16   594.303797  \n",
       "3                  0.0   Not rated      0   594.303797  \n",
       "4                  0.0   Not rated      0   594.303797  \n",
       "...                ...         ...    ...          ...  \n",
       "7917               2.2        Poor    116  2500.000000  \n",
       "7918               3.0     Average     10   200.000000  \n",
       "7919               3.5        Good    105   450.000000  \n",
       "7920               0.0   Not rated      0  1000.000000  \n",
       "7921               2.0        Poor    161   450.000000  \n",
       "\n",
       "[7922 rows x 9 columns]"
      ]
     },
     "execution_count": 110,
     "metadata": {},
     "output_type": "execute_result"
    }
   ],
   "source": [
    "input1=data.drop(columns=['target'])\n",
    "input1"
   ]
  },
  {
   "cell_type": "code",
   "execution_count": 111,
   "metadata": {},
   "outputs": [
    {
     "data": {
      "text/plain": [
       "array([['Faridabad', 77.3066401, 28.4900591, ..., 'Average', 4, 375.0],\n",
       "       ['New Delhi', 77.04952508, 28.80619877, ..., 'Not rated', 0,\n",
       "        375.0],\n",
       "       ['Faridabad', 77.304776, 28.490156699999996, ..., 'Average', 16,\n",
       "        594.3037974683544],\n",
       "       ...,\n",
       "       ['Noida', 77.3648332, 28.5971027, ..., 'Good', 105, 450.0],\n",
       "       ['Noida', 77.32321292, 28.567750899999997, ..., 'Not rated', 0,\n",
       "        1000.0],\n",
       "       ['Noida', 77.32530809999999, 28.5671503, ..., 'Poor', 161, 450.0]],\n",
       "      dtype=object)"
      ]
     },
     "execution_count": 111,
     "metadata": {},
     "output_type": "execute_result"
    }
   ],
   "source": [
    "X=input1.iloc[:,:].values\n",
    "X"
   ]
  },
  {
   "cell_type": "code",
   "execution_count": 112,
   "metadata": {},
   "outputs": [
    {
     "data": {
      "text/plain": [
       "(7922, 9)"
      ]
     },
     "execution_count": 112,
     "metadata": {},
     "output_type": "execute_result"
    }
   ],
   "source": [
    "X.shape"
   ]
  },
  {
   "cell_type": "code",
   "execution_count": 113,
   "metadata": {},
   "outputs": [
    {
     "data": {
      "text/plain": [
       "(7922,)"
      ]
     },
     "execution_count": 113,
     "metadata": {},
     "output_type": "execute_result"
    }
   ],
   "source": [
    "y.shape"
   ]
  },
  {
   "cell_type": "code",
   "execution_count": null,
   "metadata": {},
   "outputs": [],
   "source": []
  },
  {
   "cell_type": "code",
   "execution_count": 114,
   "metadata": {},
   "outputs": [],
   "source": [
    "# Label Encoding : Changing columns from Category to Label\n",
    "from sklearn.preprocessing import LabelEncoder\n",
    "encoder=LabelEncoder()"
   ]
  },
  {
   "cell_type": "code",
   "execution_count": 115,
   "metadata": {},
   "outputs": [
    {
     "data": {
      "text/plain": [
       "array([0, 77.3066401, 28.4900591, 0, 1, 2.9, 'Average', 4, 375.0],\n",
       "      dtype=object)"
      ]
     },
     "execution_count": 115,
     "metadata": {},
     "output_type": "execute_result"
    }
   ],
   "source": [
    "X[:,0]=encoder.fit_transform(X[:,0])\n",
    "X[0]"
   ]
  },
  {
   "cell_type": "code",
   "execution_count": 116,
   "metadata": {},
   "outputs": [
    {
     "data": {
      "text/plain": [
       "array([0, 77.3066401, 28.4900591, 0, 1, 2.9, 0, 4, 375.0], dtype=object)"
      ]
     },
     "execution_count": 116,
     "metadata": {},
     "output_type": "execute_result"
    }
   ],
   "source": [
    "X[:,-3]=encoder.fit_transform(X[:,-3])\n",
    "X[0]"
   ]
  },
  {
   "cell_type": "code",
   "execution_count": null,
   "metadata": {},
   "outputs": [],
   "source": []
  },
  {
   "cell_type": "code",
   "execution_count": 117,
   "metadata": {},
   "outputs": [],
   "source": [
    "# 1 Hot Encoder : No. of categories to no. of columns\n",
    "from sklearn.preprocessing import OneHotEncoder\n",
    "oencoder=OneHotEncoder(categorical_features=[0])"
   ]
  },
  {
   "cell_type": "code",
   "execution_count": 118,
   "metadata": {},
   "outputs": [
    {
     "data": {
      "text/plain": [
       "(7922, 12)"
      ]
     },
     "execution_count": 118,
     "metadata": {},
     "output_type": "execute_result"
    }
   ],
   "source": [
    "# One Hot Encoder\n",
    "X=oencoder.fit_transform(X).toarray()\n",
    "X.shape"
   ]
  },
  {
   "cell_type": "code",
   "execution_count": 119,
   "metadata": {},
   "outputs": [
    {
     "data": {
      "text/plain": [
       "(7922, 11)"
      ]
     },
     "execution_count": 119,
     "metadata": {},
     "output_type": "execute_result"
    }
   ],
   "source": [
    "X=X[:,1:]\n",
    "X.shape"
   ]
  },
  {
   "cell_type": "code",
   "execution_count": 120,
   "metadata": {},
   "outputs": [
    {
     "data": {
      "text/plain": [
       "(7922, 16)"
      ]
     },
     "execution_count": 120,
     "metadata": {},
     "output_type": "execute_result"
    }
   ],
   "source": [
    "oencoder1=OneHotEncoder(categorical_features=[-3])\n",
    "X=oencoder1.fit_transform(X).toarray()\n",
    "X.shape"
   ]
  },
  {
   "cell_type": "code",
   "execution_count": null,
   "metadata": {},
   "outputs": [],
   "source": []
  },
  {
   "cell_type": "code",
   "execution_count": 121,
   "metadata": {},
   "outputs": [
    {
     "data": {
      "text/plain": [
       "(7922, 15)"
      ]
     },
     "execution_count": 121,
     "metadata": {},
     "output_type": "execute_result"
    }
   ],
   "source": [
    "# deleting rows and columns from middle\n",
    "X=np.delete(X,-3,1)\n",
    "X.shape"
   ]
  },
  {
   "cell_type": "code",
   "execution_count": 122,
   "metadata": {},
   "outputs": [
    {
     "data": {
      "text/plain": [
       "array([  1.       ,   0.       ,   0.       ,   0.       ,   0.       ,\n",
       "         0.       ,   0.       ,   0.       ,   0.       ,  77.3066401,\n",
       "        28.4900591,   0.       ,   1.       ,   4.       , 375.       ])"
      ]
     },
     "execution_count": 122,
     "metadata": {},
     "output_type": "execute_result"
    }
   ],
   "source": [
    "X[0]"
   ]
  },
  {
   "cell_type": "code",
   "execution_count": null,
   "metadata": {},
   "outputs": [],
   "source": []
  },
  {
   "cell_type": "code",
   "execution_count": null,
   "metadata": {},
   "outputs": [],
   "source": []
  },
  {
   "cell_type": "code",
   "execution_count": null,
   "metadata": {},
   "outputs": [],
   "source": []
  },
  {
   "cell_type": "code",
   "execution_count": 123,
   "metadata": {},
   "outputs": [],
   "source": [
    "X_train,X_test,y_train,y_test=train_test_split(X,y,test_size=0.2)"
   ]
  },
  {
   "cell_type": "code",
   "execution_count": 124,
   "metadata": {},
   "outputs": [
    {
     "data": {
      "text/plain": [
       "(6337, 15)"
      ]
     },
     "execution_count": 124,
     "metadata": {},
     "output_type": "execute_result"
    }
   ],
   "source": [
    "X_train.shape"
   ]
  },
  {
   "cell_type": "code",
   "execution_count": 125,
   "metadata": {},
   "outputs": [
    {
     "data": {
      "text/plain": [
       "(6337,)"
      ]
     },
     "execution_count": 125,
     "metadata": {},
     "output_type": "execute_result"
    }
   ],
   "source": [
    "y_train.shape"
   ]
  },
  {
   "cell_type": "code",
   "execution_count": 126,
   "metadata": {},
   "outputs": [
    {
     "data": {
      "text/plain": [
       "(1585, 15)"
      ]
     },
     "execution_count": 126,
     "metadata": {},
     "output_type": "execute_result"
    }
   ],
   "source": [
    "X_test.shape"
   ]
  },
  {
   "cell_type": "code",
   "execution_count": 127,
   "metadata": {},
   "outputs": [
    {
     "data": {
      "text/plain": [
       "(1585,)"
      ]
     },
     "execution_count": 127,
     "metadata": {},
     "output_type": "execute_result"
    }
   ],
   "source": [
    "y_test.shape"
   ]
  },
  {
   "cell_type": "code",
   "execution_count": 128,
   "metadata": {},
   "outputs": [],
   "source": [
    "regressor=LinearRegression()"
   ]
  },
  {
   "cell_type": "code",
   "execution_count": 129,
   "metadata": {},
   "outputs": [
    {
     "data": {
      "text/plain": [
       "LinearRegression(copy_X=True, fit_intercept=True, n_jobs=None, normalize=False)"
      ]
     },
     "execution_count": 129,
     "metadata": {},
     "output_type": "execute_result"
    }
   ],
   "source": [
    "regressor.fit(X_train,y_train)"
   ]
  },
  {
   "cell_type": "code",
   "execution_count": 130,
   "metadata": {},
   "outputs": [
    {
     "data": {
      "text/plain": [
       "array([ 246.09707175, 1563.94056684,  940.66409013, ..., 1842.98447662,\n",
       "        231.51015775,  756.29115695])"
      ]
     },
     "execution_count": 130,
     "metadata": {},
     "output_type": "execute_result"
    }
   ],
   "source": [
    "y_pred=regressor.predict(X_test)\n",
    "y_pred"
   ]
  },
  {
   "cell_type": "code",
   "execution_count": 131,
   "metadata": {},
   "outputs": [
    {
     "data": {
      "text/plain": [
       "(1585,)"
      ]
     },
     "execution_count": 131,
     "metadata": {},
     "output_type": "execute_result"
    }
   ],
   "source": [
    "y_pred.shape"
   ]
  },
  {
   "cell_type": "code",
   "execution_count": 132,
   "metadata": {},
   "outputs": [
    {
     "data": {
      "text/plain": [
       "0.7799967013928073"
      ]
     },
     "execution_count": 132,
     "metadata": {},
     "output_type": "execute_result"
    }
   ],
   "source": [
    "r2_score(y_test,y_pred)"
   ]
  },
  {
   "cell_type": "code",
   "execution_count": null,
   "metadata": {},
   "outputs": [],
   "source": []
  },
  {
   "cell_type": "code",
   "execution_count": null,
   "metadata": {},
   "outputs": [],
   "source": []
  }
 ],
 "metadata": {
  "kernelspec": {
   "display_name": "Python 3",
   "language": "python",
   "name": "python3"
  },
  "language_info": {
   "codemirror_mode": {
    "name": "ipython",
    "version": 3
   },
   "file_extension": ".py",
   "mimetype": "text/x-python",
   "name": "python",
   "nbconvert_exporter": "python",
   "pygments_lexer": "ipython3",
   "version": "3.7.4"
  }
 },
 "nbformat": 4,
 "nbformat_minor": 2
}
